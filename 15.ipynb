{
 "cells": [
  {
   "cell_type": "code",
   "execution_count": 5,
   "id": "3bd7e984",
   "metadata": {},
   "outputs": [],
   "source": [
    "set1={\"a\",\"b\",\"c\",1,2}"
   ]
  },
  {
   "cell_type": "code",
   "execution_count": 6,
   "id": "73b0bd8a",
   "metadata": {},
   "outputs": [],
   "source": [
    "set2={1,2,3}"
   ]
  },
  {
   "cell_type": "code",
   "execution_count": 7,
   "id": "277ac550",
   "metadata": {},
   "outputs": [],
   "source": [
    "set3=set1.union(set2)"
   ]
  },
  {
   "cell_type": "code",
   "execution_count": 8,
   "id": "8e03cb4e",
   "metadata": {},
   "outputs": [
    {
     "name": "stdout",
     "output_type": "stream",
     "text": [
      "{1, 2, 'b', 3, 'a', 'c'}\n"
     ]
    }
   ],
   "source": [
    "print(set3)"
   ]
  },
  {
   "cell_type": "code",
   "execution_count": 14,
   "id": "74af6d28",
   "metadata": {},
   "outputs": [],
   "source": [
    "set1={\"a\",\"b\",\"c\",\"1\",\"2\"}"
   ]
  },
  {
   "cell_type": "code",
   "execution_count": 15,
   "id": "8c8d1d33",
   "metadata": {},
   "outputs": [],
   "source": [
    "set2={1,2,3}"
   ]
  },
  {
   "cell_type": "code",
   "execution_count": 16,
   "id": "58084fed",
   "metadata": {},
   "outputs": [],
   "source": [
    "set1.update(set2)"
   ]
  },
  {
   "cell_type": "code",
   "execution_count": 17,
   "id": "63f5730a",
   "metadata": {},
   "outputs": [
    {
     "name": "stdout",
     "output_type": "stream",
     "text": [
      "{1, '2', 'b', 2, 3, '1', 'a', 'c'}\n"
     ]
    }
   ],
   "source": [
    "print(set1)"
   ]
  },
  {
   "cell_type": "code",
   "execution_count": 18,
   "id": "65a8d57c",
   "metadata": {},
   "outputs": [],
   "source": [
    "x={\"apple\",\"banana\",\"cherry\"}"
   ]
  },
  {
   "cell_type": "code",
   "execution_count": 19,
   "id": "b9b15b99",
   "metadata": {},
   "outputs": [],
   "source": [
    "y={\"goole\",\"microsoft\",\"apple\"}"
   ]
  },
  {
   "cell_type": "code",
   "execution_count": 20,
   "id": "da66b084",
   "metadata": {},
   "outputs": [],
   "source": [
    "x.intersection_update(y)"
   ]
  },
  {
   "cell_type": "code",
   "execution_count": 21,
   "id": "2d05d288",
   "metadata": {},
   "outputs": [
    {
     "name": "stdout",
     "output_type": "stream",
     "text": [
      "{'apple'}\n"
     ]
    }
   ],
   "source": [
    "print(x)"
   ]
  },
  {
   "cell_type": "code",
   "execution_count": 22,
   "id": "24cad82f",
   "metadata": {},
   "outputs": [],
   "source": [
    "x={\"apple\",\"banana\",\"cherry\"}"
   ]
  },
  {
   "cell_type": "code",
   "execution_count": 23,
   "id": "1c7b5060",
   "metadata": {},
   "outputs": [],
   "source": [
    "y={\"google\",\"microsoft\",\"apple\"}"
   ]
  },
  {
   "cell_type": "code",
   "execution_count": 24,
   "id": "53d4b751",
   "metadata": {},
   "outputs": [],
   "source": [
    "z=x.intersection(y)"
   ]
  },
  {
   "cell_type": "code",
   "execution_count": 25,
   "id": "1fe13d95",
   "metadata": {},
   "outputs": [
    {
     "name": "stdout",
     "output_type": "stream",
     "text": [
      "{'apple'}\n"
     ]
    }
   ],
   "source": [
    "print(z)"
   ]
  },
  {
   "cell_type": "code",
   "execution_count": 26,
   "id": "3437b5da",
   "metadata": {},
   "outputs": [],
   "source": [
    "x={\"apple\",\"banana\",\"cherry\"}"
   ]
  },
  {
   "cell_type": "code",
   "execution_count": 27,
   "id": "e2357787",
   "metadata": {},
   "outputs": [],
   "source": [
    "y={\"google\",\"microsoft\",\"apple\"}"
   ]
  },
  {
   "cell_type": "code",
   "execution_count": 28,
   "id": "35b8d984",
   "metadata": {},
   "outputs": [],
   "source": [
    "x.symmetric_difference_update(y)"
   ]
  },
  {
   "cell_type": "code",
   "execution_count": 29,
   "id": "93b39e70",
   "metadata": {},
   "outputs": [
    {
     "name": "stdout",
     "output_type": "stream",
     "text": [
      "{'google', 'microsoft', 'cherry', 'banana'}\n"
     ]
    }
   ],
   "source": [
    "print(x)"
   ]
  },
  {
   "cell_type": "code",
   "execution_count": 59,
   "id": "1d8b297e",
   "metadata": {},
   "outputs": [
    {
     "ename": "SyntaxError",
     "evalue": "cannot assign to literal here. Maybe you meant '==' instead of '='? (134484195.py, line 1)",
     "output_type": "error",
     "traceback": [
      "\u001b[1;36m  Cell \u001b[1;32mIn[59], line 1\u001b[1;36m\u001b[0m\n\u001b[1;33m    1={\"twinkle twinkle little star\"}\u001b[0m\n\u001b[1;37m    ^\u001b[0m\n\u001b[1;31mSyntaxError\u001b[0m\u001b[1;31m:\u001b[0m cannot assign to literal here. Maybe you meant '==' instead of '='?\n"
     ]
    }
   ],
   "source": [
    "1={\"twinkle twinkle little star\"}"
   ]
  },
  {
   "cell_type": "code",
   "execution_count": 34,
   "id": "0c6279e1",
   "metadata": {},
   "outputs": [],
   "source": [
    "2={\"how i wonder what you are\"}"
   ]
  },
  {
   "cell_type": "code",
   "execution_count": 35,
   "id": "d9fb0c0f",
   "metadata": {},
   "outputs": [],
   "source": [
    "3={\"up avob the like you star\"}"
   ]
  },
  {
   "cell_type": "code",
   "execution_count": 36,
   "id": "a8bde970",
   "metadata": {},
   "outputs": [],
   "source": [
    "4={\"like a diomond in the sky\"}"
   ]
  },
  {
   "cell_type": "code",
   "execution_count": 37,
   "id": "1935788a",
   "metadata": {},
   "outputs": [],
   "source": [
    "a=42"
   ]
  },
  {
   "cell_type": "code",
   "execution_count": 38,
   "id": "77d22629",
   "metadata": {},
   "outputs": [],
   "source": [
    "b=65"
   ]
  },
  {
   "cell_type": "code",
   "execution_count": 39,
   "id": "0ae5af5a",
   "metadata": {},
   "outputs": [],
   "source": [
    "c=a+b"
   ]
  },
  {
   "cell_type": "code",
   "execution_count": 40,
   "id": "8040fefc",
   "metadata": {},
   "outputs": [
    {
     "name": "stdout",
     "output_type": "stream",
     "text": [
      "107\n"
     ]
    }
   ],
   "source": [
    "print(c)"
   ]
  },
  {
   "cell_type": "code",
   "execution_count": 6,
   "id": "d5b3f2ce",
   "metadata": {},
   "outputs": [],
   "source": [
    "x=int(42)"
   ]
  },
  {
   "cell_type": "code",
   "execution_count": 7,
   "id": "948a47a1",
   "metadata": {},
   "outputs": [],
   "source": [
    "y=int(2)"
   ]
  },
  {
   "cell_type": "code",
   "execution_count": 9,
   "id": "bfd317a1",
   "metadata": {},
   "outputs": [],
   "source": [
    "z=x%y"
   ]
  },
  {
   "cell_type": "code",
   "execution_count": 10,
   "id": "1242b427",
   "metadata": {},
   "outputs": [
    {
     "name": "stdout",
     "output_type": "stream",
     "text": [
      "0\n"
     ]
    }
   ],
   "source": [
    "print(z)"
   ]
  },
  {
   "cell_type": "code",
   "execution_count": 60,
   "id": "c497ea0b",
   "metadata": {},
   "outputs": [
    {
     "name": "stdout",
     "output_type": "stream",
     "text": [
      "{'like a diomond in the sky'}\n"
     ]
    }
   ],
   "source": [
    "print(poem)"
   ]
  },
  {
   "cell_type": "code",
   "execution_count": 1,
   "id": "d87438f4",
   "metadata": {},
   "outputs": [
    {
     "name": "stdout",
     "output_type": "stream",
     "text": [
      "twinkle twinkle little star \n",
      "    how i wonder what you are \n",
      "    up above the like you star \n",
      "    like a diomond in the sky\n"
     ]
    }
   ],
   "source": [
    "print(\"\"\"twinkle twinkle little star \n",
    "    how i wonder what you are \n",
    "    up above the like you star \n",
    "    like a diomond in the sky\"\"\")"
   ]
  },
  {
   "cell_type": "code",
   "execution_count": 88,
   "id": "1eacbb68",
   "metadata": {},
   "outputs": [],
   "source": [
    "x=22"
   ]
  },
  {
   "cell_type": "code",
   "execution_count": 78,
   "id": "56e3060b",
   "metadata": {},
   "outputs": [],
   "source": [
    "y=33"
   ]
  },
  {
   "cell_type": "code",
   "execution_count": 79,
   "id": "8bd2e450",
   "metadata": {},
   "outputs": [],
   "source": [
    "z=(x+y)/2"
   ]
  },
  {
   "cell_type": "code",
   "execution_count": 80,
   "id": "a7aed31f",
   "metadata": {},
   "outputs": [
    {
     "ename": "TypeError",
     "evalue": "'str' object is not callable",
     "output_type": "error",
     "traceback": [
      "\u001b[1;31m---------------------------------------------------------------------------\u001b[0m",
      "\u001b[1;31mTypeError\u001b[0m                                 Traceback (most recent call last)",
      "Cell \u001b[1;32mIn[80], line 1\u001b[0m\n\u001b[1;32m----> 1\u001b[0m \u001b[38;5;28mprint\u001b[39m(z)\n",
      "\u001b[1;31mTypeError\u001b[0m: 'str' object is not callable"
     ]
    }
   ],
   "source": [
    "print(z)"
   ]
  },
  {
   "cell_type": "code",
   "execution_count": 13,
   "id": "2d9a8b8f",
   "metadata": {},
   "outputs": [
    {
     "name": "stdout",
     "output_type": "stream",
     "text": [
      "enter 1st number12\n"
     ]
    }
   ],
   "source": [
    "x=float(input('enter 1st number'))"
   ]
  },
  {
   "cell_type": "code",
   "execution_count": 14,
   "id": "85424dcc",
   "metadata": {},
   "outputs": [
    {
     "name": "stdout",
     "output_type": "stream",
     "text": [
      "enter 2nd number22\n"
     ]
    }
   ],
   "source": [
    "y=float(input('enter 2nd number'))"
   ]
  },
  {
   "cell_type": "code",
   "execution_count": 16,
   "id": "bc0edc68",
   "metadata": {},
   "outputs": [],
   "source": [
    "avg=(x+y)/2"
   ]
  },
  {
   "cell_type": "code",
   "execution_count": 17,
   "id": "05523b76",
   "metadata": {},
   "outputs": [
    {
     "name": "stdout",
     "output_type": "stream",
     "text": [
      "17.0\n"
     ]
    }
   ],
   "source": [
    "print(avg)"
   ]
  },
  {
   "cell_type": "code",
   "execution_count": 18,
   "id": "83ff15cd",
   "metadata": {},
   "outputs": [],
   "source": [
    "pi=22/7"
   ]
  },
  {
   "cell_type": "code",
   "execution_count": 19,
   "id": "27a47969",
   "metadata": {},
   "outputs": [],
   "source": [
    "r=3"
   ]
  },
  {
   "cell_type": "code",
   "execution_count": 20,
   "id": "a02c4225",
   "metadata": {},
   "outputs": [],
   "source": [
    "area=pi*r*r"
   ]
  },
  {
   "cell_type": "code",
   "execution_count": 21,
   "id": "ae27c058",
   "metadata": {},
   "outputs": [
    {
     "name": "stdout",
     "output_type": "stream",
     "text": [
      "28.285714285714285\n"
     ]
    }
   ],
   "source": [
    "print(area)"
   ]
  },
  {
   "cell_type": "code",
   "execution_count": 22,
   "id": "efaf8dd2",
   "metadata": {},
   "outputs": [],
   "source": [
    "cars={\"brand\":\"bmw\",\"model\":\"2nd series\",\"year\":2004}"
   ]
  },
  {
   "cell_type": "code",
   "execution_count": 23,
   "id": "369d9aa0",
   "metadata": {},
   "outputs": [
    {
     "name": "stdout",
     "output_type": "stream",
     "text": [
      "{'brand': 'bmw', 'model': '2nd series', 'year': 2004}\n"
     ]
    }
   ],
   "source": [
    "print(cars)"
   ]
  },
  {
   "cell_type": "code",
   "execution_count": 26,
   "id": "e79b8567",
   "metadata": {},
   "outputs": [],
   "source": [
    "x=cars.get(\"model\")"
   ]
  },
  {
   "cell_type": "code",
   "execution_count": 27,
   "id": "a65c60c9",
   "metadata": {},
   "outputs": [
    {
     "name": "stdout",
     "output_type": "stream",
     "text": [
      "2nd series\n"
     ]
    }
   ],
   "source": [
    "print(x)"
   ]
  },
  {
   "cell_type": "code",
   "execution_count": 29,
   "id": "8dba2a2b",
   "metadata": {},
   "outputs": [],
   "source": [
    "car={\"brand\":\"ford\",\"model\":\"mustang\",\"year\":1964}"
   ]
  },
  {
   "cell_type": "code",
   "execution_count": 32,
   "id": "b6532a4a",
   "metadata": {},
   "outputs": [
    {
     "name": "stdout",
     "output_type": "stream",
     "text": [
      "{'brand': 'ford', 'model': 'mustang', 'year': 1964}\n"
     ]
    }
   ],
   "source": [
    "print(car)"
   ]
  },
  {
   "cell_type": "code",
   "execution_count": 35,
   "id": "3b6ddb42",
   "metadata": {},
   "outputs": [],
   "source": [
    "x=car.values()"
   ]
  },
  {
   "cell_type": "code",
   "execution_count": 36,
   "id": "d1c434cc",
   "metadata": {},
   "outputs": [
    {
     "name": "stdout",
     "output_type": "stream",
     "text": [
      "dict_values(['ford', 'mustang', 1964])\n"
     ]
    }
   ],
   "source": [
    "print(x)"
   ]
  },
  {
   "cell_type": "code",
   "execution_count": 37,
   "id": "4ecd57ce",
   "metadata": {},
   "outputs": [],
   "source": [
    "car[\"year\"]=2020"
   ]
  },
  {
   "cell_type": "code",
   "execution_count": 38,
   "id": "b4250b0c",
   "metadata": {},
   "outputs": [
    {
     "name": "stdout",
     "output_type": "stream",
     "text": [
      "dict_values(['ford', 'mustang', 2020])\n"
     ]
    }
   ],
   "source": [
    "print(x)"
   ]
  },
  {
   "cell_type": "raw",
   "id": "ba51fca7",
   "metadata": {},
   "source": [
    "car={\"brand\":\"ford\",\"model\":\"mustang\",\"year\":1964}"
   ]
  },
  {
   "cell_type": "code",
   "execution_count": 39,
   "id": "8a320137",
   "metadata": {},
   "outputs": [],
   "source": [
    "x=car.values()"
   ]
  },
  {
   "cell_type": "code",
   "execution_count": 41,
   "id": "65138119",
   "metadata": {},
   "outputs": [
    {
     "name": "stdout",
     "output_type": "stream",
     "text": [
      "dict_values(['ford', 'mustang', 2020])\n"
     ]
    }
   ],
   "source": [
    "print(x)"
   ]
  },
  {
   "cell_type": "code",
   "execution_count": 42,
   "id": "8470d72f",
   "metadata": {},
   "outputs": [],
   "source": [
    "car[\"color\"]=\"red\""
   ]
  },
  {
   "cell_type": "code",
   "execution_count": 43,
   "id": "98c5b22a",
   "metadata": {},
   "outputs": [
    {
     "name": "stdout",
     "output_type": "stream",
     "text": [
      "dict_values(['ford', 'mustang', 2020, 'red'])\n"
     ]
    }
   ],
   "source": [
    "print(x)"
   ]
  },
  {
   "cell_type": "code",
   "execution_count": 44,
   "id": "3ec85753",
   "metadata": {},
   "outputs": [],
   "source": [
    "x=car.items()"
   ]
  },
  {
   "cell_type": "code",
   "execution_count": 45,
   "id": "826a5ce9",
   "metadata": {},
   "outputs": [
    {
     "name": "stdout",
     "output_type": "stream",
     "text": [
      "dict_items([('brand', 'ford'), ('model', 'mustang'), ('year', 2020), ('color', 'red')])\n"
     ]
    }
   ],
   "source": [
    "print(x)"
   ]
  },
  {
   "cell_type": "code",
   "execution_count": 46,
   "id": "ffa63d7d",
   "metadata": {},
   "outputs": [],
   "source": [
    "car={\"brand\":\"ford\",\"model\":\"mustang\",\"year\":1962}"
   ]
  },
  {
   "cell_type": "code",
   "execution_count": 49,
   "id": "10257769",
   "metadata": {},
   "outputs": [],
   "source": [
    "car[\"year\"]=2020"
   ]
  },
  {
   "cell_type": "code",
   "execution_count": 51,
   "id": "dbac7c41",
   "metadata": {},
   "outputs": [
    {
     "name": "stdout",
     "output_type": "stream",
     "text": [
      "{'brand': 'ford', 'model': 'mustang', 'year': 2020}\n"
     ]
    }
   ],
   "source": [
    "print(car)"
   ]
  },
  {
   "cell_type": "code",
   "execution_count": 53,
   "id": "f550daa6",
   "metadata": {},
   "outputs": [],
   "source": [
    "car={\"brand\":\"ford\",\"model\":\"mustang\",\"year\":1964}"
   ]
  },
  {
   "cell_type": "code",
   "execution_count": 54,
   "id": "3e3d8e1d",
   "metadata": {},
   "outputs": [],
   "source": [
    "car.update({\"year\":2020})"
   ]
  },
  {
   "cell_type": "code",
   "execution_count": 55,
   "id": "de747ab2",
   "metadata": {},
   "outputs": [
    {
     "data": {
      "text/plain": [
       "2020"
      ]
     },
     "execution_count": 55,
     "metadata": {},
     "output_type": "execute_result"
    }
   ],
   "source": [
    "car.pop(\"year\")"
   ]
  },
  {
   "cell_type": "code",
   "execution_count": 61,
   "id": "0e76c255",
   "metadata": {},
   "outputs": [],
   "source": [
    "del car[\"model\"]"
   ]
  },
  {
   "cell_type": "code",
   "execution_count": 62,
   "id": "4e900ac9",
   "metadata": {},
   "outputs": [
    {
     "name": "stdout",
     "output_type": "stream",
     "text": [
      "{'brand': 'ford'}\n"
     ]
    }
   ],
   "source": [
    "print(car)"
   ]
  },
  {
   "cell_type": "code",
   "execution_count": 64,
   "id": "4d658f89",
   "metadata": {},
   "outputs": [],
   "source": [
    "car.clear()"
   ]
  },
  {
   "cell_type": "code",
   "execution_count": 65,
   "id": "118d491d",
   "metadata": {},
   "outputs": [
    {
     "name": "stdout",
     "output_type": "stream",
     "text": [
      "{}\n"
     ]
    }
   ],
   "source": [
    "print(car)"
   ]
  },
  {
   "cell_type": "code",
   "execution_count": 66,
   "id": "f2046fd9",
   "metadata": {},
   "outputs": [],
   "source": [
    "car={\"brand\":\"ford\",\"model\":\"mustang\",\"year\":1964}"
   ]
  },
  {
   "cell_type": "code",
   "execution_count": 67,
   "id": "42ef446b",
   "metadata": {},
   "outputs": [],
   "source": [
    "mycar=car.copy()"
   ]
  },
  {
   "cell_type": "code",
   "execution_count": 68,
   "id": "51855455",
   "metadata": {},
   "outputs": [
    {
     "name": "stdout",
     "output_type": "stream",
     "text": [
      "{'brand': 'ford', 'model': 'mustang', 'year': 1964}\n"
     ]
    }
   ],
   "source": [
    "print(mycar)"
   ]
  },
  {
   "cell_type": "code",
   "execution_count": 74,
   "id": "907a04d3",
   "metadata": {},
   "outputs": [],
   "source": [
    "thisdict={\"brand\":\"ford\",\"model\":\"mustang\",\"year\":1964}"
   ]
  },
  {
   "cell_type": "code",
   "execution_count": 75,
   "id": "83cc97cb",
   "metadata": {},
   "outputs": [],
   "source": [
    "mydict=dict(thisdict)"
   ]
  },
  {
   "cell_type": "code",
   "execution_count": 76,
   "id": "14acc262",
   "metadata": {},
   "outputs": [
    {
     "name": "stdout",
     "output_type": "stream",
     "text": [
      "{'brand': 'ford', 'model': 'mustang', 'year': 1964}\n"
     ]
    }
   ],
   "source": [
    "print(mydict)"
   ]
  },
  {
   "cell_type": "code",
   "execution_count": 79,
   "id": "7c360f9c",
   "metadata": {},
   "outputs": [],
   "source": [
    "friends={\"child1\":{\"name\":\"deb\",\"year\":\"2000\"},\"child2\":{\"name\":\"arun\",\"year\":2001},\"child3\":{\"name\":\"roy\",\"year\":2018}}"
   ]
  },
  {
   "cell_type": "code",
   "execution_count": 82,
   "id": "c72b3231",
   "metadata": {},
   "outputs": [
    {
     "name": "stdout",
     "output_type": "stream",
     "text": [
      "{'child1': {'name': 'deb', 'year': '2000'}, 'child2': {'name': 'arun', 'year': 2001}, 'child3': {'name': 'roy', 'year': 2018}}\n"
     ]
    }
   ],
   "source": [
    "print(friends)"
   ]
  },
  {
   "cell_type": "code",
   "execution_count": 87,
   "id": "abc02cc4",
   "metadata": {},
   "outputs": [],
   "source": [
    "child1={\"name\":\"deb\",\"year\":2000}\n",
    "child2={\"name\":\"arun\",\"year\":2001}\n",
    "child3={\"name\":\"roy\",\"year\":2018}"
   ]
  },
  {
   "cell_type": "code",
   "execution_count": 88,
   "id": "91e23108",
   "metadata": {},
   "outputs": [],
   "source": [
    "friends={\"child1\":child1,\"child2\":child2,\"child3\":child3}"
   ]
  },
  {
   "cell_type": "code",
   "execution_count": 89,
   "id": "67c84eb1",
   "metadata": {},
   "outputs": [
    {
     "name": "stdout",
     "output_type": "stream",
     "text": [
      "{'child1': {'name': 'deb', 'year': 2000}, 'child2': {'name': 'arun', 'year': 2001}, 'child3': {'name': 'roy', 'year': 2018}}\n"
     ]
    }
   ],
   "source": [
    "print(friends)"
   ]
  },
  {
   "cell_type": "code",
   "execution_count": 90,
   "id": "2b981032",
   "metadata": {},
   "outputs": [],
   "source": [
    "a=33"
   ]
  },
  {
   "cell_type": "code",
   "execution_count": 91,
   "id": "47fb4fd6",
   "metadata": {},
   "outputs": [],
   "source": [
    "b=200"
   ]
  },
  {
   "cell_type": "code",
   "execution_count": 94,
   "id": "8ace6ce3",
   "metadata": {},
   "outputs": [
    {
     "name": "stdout",
     "output_type": "stream",
     "text": [
      "b is greater than a\n"
     ]
    }
   ],
   "source": [
    "print(\"b is greater than a\")"
   ]
  },
  {
   "cell_type": "code",
   "execution_count": 110,
   "id": "db1ea3ec",
   "metadata": {},
   "outputs": [],
   "source": [
    "a=3"
   ]
  },
  {
   "cell_type": "code",
   "execution_count": 111,
   "id": "cc683309",
   "metadata": {},
   "outputs": [],
   "source": [
    "b=33"
   ]
  },
  {
   "cell_type": "code",
   "execution_count": 112,
   "id": "9f8cc243",
   "metadata": {},
   "outputs": [
    {
     "name": "stdout",
     "output_type": "stream",
     "text": [
      "b is greater than a\n"
     ]
    }
   ],
   "source": [
    "print(\"b is greater than a\")"
   ]
  },
  {
   "cell_type": "code",
   "execution_count": 114,
   "id": "7cde08e4",
   "metadata": {},
   "outputs": [
    {
     "name": "stdout",
     "output_type": "stream",
     "text": [
      " greater than\n"
     ]
    }
   ],
   "source": [
    "if b>a:\n",
    "    print(\" greater than\")"
   ]
  },
  {
   "cell_type": "code",
   "execution_count": 104,
   "id": "ae0bcd81",
   "metadata": {},
   "outputs": [],
   "source": [
    "a=200"
   ]
  },
  {
   "cell_type": "code",
   "execution_count": 105,
   "id": "a954d4c2",
   "metadata": {},
   "outputs": [],
   "source": [
    "b=33"
   ]
  },
  {
   "cell_type": "code",
   "execution_count": 106,
   "id": "925b4508",
   "metadata": {},
   "outputs": [
    {
     "name": "stdout",
     "output_type": "stream",
     "text": [
      "b is greater then a\n"
     ]
    }
   ],
   "source": [
    "print(\"b is greater then a\")"
   ]
  },
  {
   "cell_type": "code",
   "execution_count": 119,
   "id": "d27f3c3f",
   "metadata": {},
   "outputs": [
    {
     "name": "stdout",
     "output_type": "stream",
     "text": [
      "b is greater than a\n"
     ]
    }
   ],
   "source": [
    "if b>a:\n",
    "    print(\"b is greater than a\")\n",
    "elif a==b:\n",
    "    print(\"a and b are equl\")"
   ]
  },
  {
   "cell_type": "code",
   "execution_count": 120,
   "id": "d72c5966",
   "metadata": {},
   "outputs": [],
   "source": [
    "a=200"
   ]
  },
  {
   "cell_type": "code",
   "execution_count": 121,
   "id": "a8884046",
   "metadata": {},
   "outputs": [],
   "source": [
    "b=33"
   ]
  },
  {
   "cell_type": "code",
   "execution_count": 123,
   "id": "62943bfe",
   "metadata": {},
   "outputs": [
    {
     "name": "stdout",
     "output_type": "stream",
     "text": [
      "a is greater than b\n"
     ]
    }
   ],
   "source": [
    "if b>a:\n",
    "    print(\"b is greater than a\")\n",
    "elif a==b:\n",
    "    print(\"a and b are eual\")\n",
    "else:\n",
    "    print(\"a is greater than b\")"
   ]
  },
  {
   "cell_type": "code",
   "execution_count": 124,
   "id": "a030a157",
   "metadata": {},
   "outputs": [],
   "source": [
    "a=2"
   ]
  },
  {
   "cell_type": "code",
   "execution_count": 125,
   "id": "f5939bda",
   "metadata": {},
   "outputs": [],
   "source": [
    "b=333"
   ]
  },
  {
   "cell_type": "code",
   "execution_count": 126,
   "id": "ffdb37d8",
   "metadata": {},
   "outputs": [
    {
     "name": "stdout",
     "output_type": "stream",
     "text": [
      "b\n"
     ]
    }
   ],
   "source": [
    "print(\"a\")if a>b else print(\"b\")"
   ]
  },
  {
   "cell_type": "code",
   "execution_count": 127,
   "id": "4abfb067",
   "metadata": {},
   "outputs": [],
   "source": [
    "a=330"
   ]
  },
  {
   "cell_type": "code",
   "execution_count": 128,
   "id": "7812cc25",
   "metadata": {},
   "outputs": [],
   "source": [
    "b=330"
   ]
  },
  {
   "cell_type": "code",
   "execution_count": 129,
   "id": "86e3bd3d",
   "metadata": {},
   "outputs": [
    {
     "name": "stdout",
     "output_type": "stream",
     "text": [
      "=\n"
     ]
    }
   ],
   "source": [
    "print(\"a\")if a>b else print(\"=\")if a==b else print(\"b\")"
   ]
  },
  {
   "cell_type": "code",
   "execution_count": 130,
   "id": "adf323a8",
   "metadata": {},
   "outputs": [],
   "source": [
    "a=200"
   ]
  },
  {
   "cell_type": "code",
   "execution_count": 131,
   "id": "00f2803e",
   "metadata": {},
   "outputs": [],
   "source": [
    "b=33"
   ]
  },
  {
   "cell_type": "code",
   "execution_count": 132,
   "id": "af17b13f",
   "metadata": {},
   "outputs": [],
   "source": [
    "c=500"
   ]
  },
  {
   "cell_type": "code",
   "execution_count": 135,
   "id": "44b55203",
   "metadata": {},
   "outputs": [
    {
     "name": "stdout",
     "output_type": "stream",
     "text": [
      "both condition are true\n"
     ]
    }
   ],
   "source": [
    "if a>b and c>a:\n",
    "    print(\"both condition are true\")"
   ]
  },
  {
   "cell_type": "code",
   "execution_count": 136,
   "id": "0af54fdc",
   "metadata": {},
   "outputs": [],
   "source": [
    "a=200"
   ]
  },
  {
   "cell_type": "code",
   "execution_count": 137,
   "id": "20712d40",
   "metadata": {},
   "outputs": [],
   "source": [
    "b=33"
   ]
  },
  {
   "cell_type": "code",
   "execution_count": 138,
   "id": "92ec8327",
   "metadata": {},
   "outputs": [],
   "source": [
    "c=500"
   ]
  },
  {
   "cell_type": "code",
   "execution_count": 139,
   "id": "531ed890",
   "metadata": {},
   "outputs": [
    {
     "name": "stdout",
     "output_type": "stream",
     "text": [
      "at least one of the conditions is true\n"
     ]
    }
   ],
   "source": [
    "if a>b or a>c:\n",
    "    print('at least one of the conditions is true')"
   ]
  },
  {
   "cell_type": "code",
   "execution_count": 144,
   "id": "085a76d8",
   "metadata": {},
   "outputs": [],
   "source": [
    "x=9"
   ]
  },
  {
   "cell_type": "code",
   "execution_count": 145,
   "id": "00e59b49",
   "metadata": {},
   "outputs": [
    {
     "name": "stdout",
     "output_type": "stream",
     "text": [
      "but  not above 20.\n"
     ]
    }
   ],
   "source": [
    "if x>10:\n",
    "    print(\"above ten,\")\n",
    "    if x>20:\n",
    "        print(\"and also above 20!\")\n",
    "else:\n",
    "    print(\"but  not above 20.\")"
   ]
  },
  {
   "cell_type": "code",
   "execution_count": 146,
   "id": "eee718f2",
   "metadata": {},
   "outputs": [],
   "source": [
    "a=33"
   ]
  },
  {
   "cell_type": "code",
   "execution_count": 147,
   "id": "26a673b4",
   "metadata": {},
   "outputs": [],
   "source": [
    "b=200"
   ]
  },
  {
   "cell_type": "code",
   "execution_count": 149,
   "id": "7cf4f0c4",
   "metadata": {},
   "outputs": [],
   "source": [
    "if b>a:\n",
    "    pass"
   ]
  },
  {
   "cell_type": "code",
   "execution_count": 151,
   "id": "8e70f408",
   "metadata": {},
   "outputs": [
    {
     "name": "stdout",
     "output_type": "stream",
     "text": [
      "give a number22\n"
     ]
    }
   ],
   "source": [
    "x=float(input(\"give a number\"))"
   ]
  },
  {
   "cell_type": "code",
   "execution_count": 156,
   "id": "a47b5a9f",
   "metadata": {},
   "outputs": [
    {
     "name": "stdout",
     "output_type": "stream",
     "text": [
      "even\n"
     ]
    }
   ],
   "source": [
    "if x%2==0:\n",
    "    print(\"even\")\n",
    "else:\n",
    "    print(\"odd\")"
   ]
  },
  {
   "cell_type": "code",
   "execution_count": null,
   "id": "06132a55",
   "metadata": {},
   "outputs": [],
   "source": []
  }
 ],
 "metadata": {
  "kernelspec": {
   "display_name": "Python 3 (ipykernel)",
   "language": "python",
   "name": "python3"
  },
  "language_info": {
   "codemirror_mode": {
    "name": "ipython",
    "version": 3
   },
   "file_extension": ".py",
   "mimetype": "text/x-python",
   "name": "python",
   "nbconvert_exporter": "python",
   "pygments_lexer": "ipython3",
   "version": "3.11.5"
  }
 },
 "nbformat": 4,
 "nbformat_minor": 5
}
