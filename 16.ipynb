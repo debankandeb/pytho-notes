{
 "cells": [
  {
   "cell_type": "code",
   "execution_count": 1,
   "id": "abbb99a6",
   "metadata": {},
   "outputs": [],
   "source": [
    "a=200"
   ]
  },
  {
   "cell_type": "code",
   "execution_count": 2,
   "id": "0d08faab",
   "metadata": {},
   "outputs": [],
   "source": [
    "b=33"
   ]
  },
  {
   "cell_type": "code",
   "execution_count": 3,
   "id": "aa4960fc",
   "metadata": {},
   "outputs": [],
   "source": [
    "c=300"
   ]
  },
  {
   "cell_type": "code",
   "execution_count": 4,
   "id": "8ed20d62",
   "metadata": {},
   "outputs": [
    {
     "name": "stdout",
     "output_type": "stream",
     "text": [
      "at least one contition is true\n"
     ]
    }
   ],
   "source": [
    "if a>b or a>c:\n",
    "    print(\"at least one contition is true\")\n",
    "    "
   ]
  },
  {
   "cell_type": "code",
   "execution_count": 5,
   "id": "972c7d99",
   "metadata": {},
   "outputs": [
    {
     "name": "stdout",
     "output_type": "stream",
     "text": [
      "4\n",
      "3\n",
      "2\n",
      "1\n"
     ]
    }
   ],
   "source": [
    "a=[1,2,3,4]\n",
    "while a:\n",
    "    print(a.pop())\n",
    "    "
   ]
  },
  {
   "cell_type": "code",
   "execution_count": 6,
   "id": "c48b5af6",
   "metadata": {},
   "outputs": [
    {
     "name": "stdout",
     "output_type": "stream",
     "text": [
      "[]\n"
     ]
    }
   ],
   "source": [
    "print(a)"
   ]
  },
  {
   "cell_type": "code",
   "execution_count": 8,
   "id": "f4cbf869",
   "metadata": {},
   "outputs": [
    {
     "name": "stdout",
     "output_type": "stream",
     "text": [
      "1\n",
      "2\n",
      "3\n",
      "4\n"
     ]
    }
   ],
   "source": [
    "i=0\n",
    "while i<4:\n",
    "    i+=1\n",
    "    print(i)\n",
    "    continue"
   ]
  },
  {
   "cell_type": "code",
   "execution_count": 9,
   "id": "c66daa74",
   "metadata": {},
   "outputs": [
    {
     "name": "stdout",
     "output_type": "stream",
     "text": [
      "1\n"
     ]
    }
   ],
   "source": [
    "i=0\n",
    "while i<4:\n",
    "    i+=1\n",
    "    print(i)\n",
    "    break"
   ]
  },
  {
   "cell_type": "code",
   "execution_count": 1,
   "id": "44fae801",
   "metadata": {},
   "outputs": [],
   "source": [
    "a= 'loop in python'\n",
    "i=0"
   ]
  },
  {
   "cell_type": "code",
   "execution_count": 2,
   "id": "7e29565f",
   "metadata": {},
   "outputs": [
    {
     "name": "stdout",
     "output_type": "stream",
     "text": [
      "value of i: 1\n",
      "value of i: 2\n",
      "value of i: 3\n",
      "value of i: 4\n",
      "value of i: 5\n",
      "value of i: 6\n",
      "value of i: 7\n",
      "value of i: 8\n",
      "value of i: 9\n",
      "value of i: 10\n",
      "value of i: 11\n",
      "value of i: 12\n",
      "value of i: 13\n",
      "value of i: 14\n"
     ]
    }
   ],
   "source": [
    "while i<len(a):\n",
    "    i+=1\n",
    "    #pass\n",
    "    print('value of i:',i)"
   ]
  },
  {
   "cell_type": "code",
   "execution_count": 12,
   "id": "968a7551",
   "metadata": {},
   "outputs": [
    {
     "data": {
      "text/plain": [
       "14"
      ]
     },
     "execution_count": 12,
     "metadata": {},
     "output_type": "execute_result"
    }
   ],
   "source": [
    "len(a)"
   ]
  },
  {
   "cell_type": "code",
   "execution_count": 43,
   "id": "c7acf042",
   "metadata": {},
   "outputs": [],
   "source": [
    "i=0"
   ]
  },
  {
   "cell_type": "code",
   "execution_count": 44,
   "id": "c01cef30",
   "metadata": {},
   "outputs": [
    {
     "name": "stdout",
     "output_type": "stream",
     "text": [
      "current letter: l\n",
      "current letter: p\n",
      "current letter:  \n",
      "current letter: i\n",
      "current letter: n\n",
      "current letter: p\n",
      "current letter: y\n",
      "current letter: t\n",
      "current letter: h\n",
      "current letter: n\n"
     ]
    }
   ],
   "source": [
    "a='loops inpython'\n",
    "while i<len(a):\n",
    "    if a[i]=='o'or a[i]=='s':\n",
    "        i+=1\n",
    "        continue\n",
    "    print('current letter:',a[i])\n",
    "    i+=1"
   ]
  },
  {
   "cell_type": "code",
   "execution_count": 5,
   "id": "e5ab2fbe",
   "metadata": {},
   "outputs": [
    {
     "name": "stdout",
     "output_type": "stream",
     "text": [
      "current letter: l\n",
      "current letter: o\n",
      "current letter: o\n"
     ]
    }
   ],
   "source": [
    "i=0\n",
    "a='loops in python'\n",
    "while i<len(a):\n",
    "    if a[i]=='p'or a[i]==\"h\":\n",
    "        i+=1\n",
    "        break\n",
    "    print('current letter:',a[i])\n",
    "    i+=1"
   ]
  },
  {
   "cell_type": "code",
   "execution_count": 7,
   "id": "49d390ef",
   "metadata": {},
   "outputs": [
    {
     "name": "stdout",
     "output_type": "stream",
     "text": [
      "1\n",
      "2\n",
      "3\n",
      "4\n",
      "no break\n",
      "\n"
     ]
    }
   ],
   "source": [
    "i=0\n",
    "while i<4:\n",
    "    i+=1\n",
    "    print(i)\n",
    "else:# executed because no break in for\n",
    "        print(\"no break\\n\")"
   ]
  },
  {
   "cell_type": "code",
   "execution_count": 8,
   "id": "1ade6e15",
   "metadata": {},
   "outputs": [
    {
     "name": "stdout",
     "output_type": "stream",
     "text": [
      "1\n"
     ]
    }
   ],
   "source": [
    "i=0\n",
    "while i<4:\n",
    "    i+=1\n",
    "    print(i)\n",
    "    break\n",
    "else:# not executed as there is a break\n",
    "    print(\"no break\")"
   ]
  },
  {
   "cell_type": "code",
   "execution_count": 10,
   "id": "7fe693ef",
   "metadata": {},
   "outputs": [
    {
     "name": "stdout",
     "output_type": "stream",
     "text": [
      "list lteration\n",
      "hello\n",
      "for\n",
      "python\n"
     ]
    }
   ],
   "source": [
    "#lterating over a list\n",
    "print(\"list lteration\")\n",
    "i=[\"hello\",\"for\",\"python\"]\n",
    "for i in i:\n",
    "    print(i)"
   ]
  },
  {
   "cell_type": "code",
   "execution_count": 13,
   "id": "e3c75679",
   "metadata": {},
   "outputs": [
    {
     "name": "stdout",
     "output_type": "stream",
     "text": [
      "tuple lterating\n",
      "hello\n",
      "for\n",
      "python\n"
     ]
    }
   ],
   "source": [
    "# lterating over tuple\n",
    "print(\"tuple lterating\")\n",
    "t=(\"hello\",\"for\",\"python\")\n",
    "for i in t:\n",
    "    print(i)"
   ]
  },
  {
   "cell_type": "code",
   "execution_count": 45,
   "id": "da004a65",
   "metadata": {},
   "outputs": [
    {
     "name": "stdout",
     "output_type": "stream",
     "text": [
      "dictionary learning\n",
      "123\n",
      "345\n"
     ]
    }
   ],
   "source": [
    "#lterating over dictionary\n",
    "print(\"dictionary learning\")\n",
    "d=dict()\n",
    "d['xyz']=123\n",
    "d['abc']=345\n",
    "for i in d:\n",
    "    print(d[i])"
   ]
  },
  {
   "cell_type": "code",
   "execution_count": 15,
   "id": "9c0fafc0",
   "metadata": {},
   "outputs": [
    {
     "name": "stdout",
     "output_type": "stream",
     "text": [
      "{'xyz': 123, 'abc': 345}\n"
     ]
    }
   ],
   "source": [
    "print(d)"
   ]
  },
  {
   "cell_type": "code",
   "execution_count": 31,
   "id": "be2fc8da",
   "metadata": {},
   "outputs": [
    {
     "name": "stdout",
     "output_type": "stream",
     "text": [
      "current letter: p\n",
      "current letter: y\n",
      "current letter: t\n",
      "current letter: h\n",
      "current letter: n\n",
      "current letter: d\n",
      "current letter: v\n",
      "current letter: l\n",
      "current letter: p\n",
      "current letter: r\n"
     ]
    }
   ],
   "source": [
    "for x in 'pythondeveloper':\n",
    "    if x=='e'or x=='o':\n",
    "        continue\n",
    "    print('current letter:',x)"
   ]
  },
  {
   "cell_type": "code",
   "execution_count": 21,
   "id": "137478cb",
   "metadata": {},
   "outputs": [
    {
     "name": "stdout",
     "output_type": "stream",
     "text": [
      "current letter: p\n",
      "current letter: y\n",
      "current letter: t\n",
      "current letter: h\n"
     ]
    }
   ],
   "source": [
    "for x in 'python developer':\n",
    "    # break the loop as soon it sees 'e'or 'o'\n",
    "    if x=='o'or x=='e':\n",
    "        break\n",
    "    print('current letter:',x)"
   ]
  },
  {
   "cell_type": "code",
   "execution_count": 32,
   "id": "5afd8eae",
   "metadata": {},
   "outputs": [
    {
     "name": "stdout",
     "output_type": "stream",
     "text": [
      "last letter: b\n"
     ]
    }
   ],
   "source": [
    "for x in \"python deb\":\n",
    "    pass\n",
    "print(\"last letter:\",x)"
   ]
  },
  {
   "cell_type": "code",
   "execution_count": 30,
   "id": "3e1a2383",
   "metadata": {},
   "outputs": [
    {
     "name": "stdout",
     "output_type": "stream",
     "text": [
      "last letter: r\n"
     ]
    }
   ],
   "source": [
    "for x in \"python parker\":\n",
    "    pass\n",
    "print(\"last letter:\",x)"
   ]
  },
  {
   "cell_type": "code",
   "execution_count": 46,
   "id": "31b1b70d",
   "metadata": {},
   "outputs": [
    {
     "name": "stdout",
     "output_type": "stream",
     "text": [
      "0\n",
      "1\n",
      "2\n",
      "3\n",
      "4\n",
      "5\n",
      "6\n",
      "7\n",
      "8\n",
      "9\n"
     ]
    }
   ],
   "source": [
    "#show range()basics\n",
    "#printing number\n",
    "for i in range (10):\n",
    "    print(i,end=\"\")\n",
    "    print()"
   ]
  },
  {
   "cell_type": "code",
   "execution_count": 52,
   "id": "9398dd6e",
   "metadata": {},
   "outputs": [
    {
     "name": "stdout",
     "output_type": "stream",
     "text": [
      "10\n",
      "20\n",
      "30\n",
      "40\n"
     ]
    }
   ],
   "source": [
    "#using range for iteration\n",
    "l=[10,20,30,40]\n",
    "for i in range(len(l)):\n",
    "    print(l[i],end=\"\")\n",
    "    print()"
   ]
  },
  {
   "cell_type": "code",
   "execution_count": 53,
   "id": "8944aaaa",
   "metadata": {},
   "outputs": [
    {
     "name": "stdout",
     "output_type": "stream",
     "text": [
      "sum of first 10 natural: 1\n",
      "sum of first 10 natural: 3\n",
      "sum of first 10 natural: 6\n",
      "sum of first 10 natural: 10\n",
      "sum of first 10 natural: 15\n",
      "sum of first 10 natural: 21\n",
      "sum of first 10 natural: 28\n",
      "sum of first 10 natural: 36\n",
      "sum of first 10 natural: 45\n",
      "sum of first 10 natural: 55\n"
     ]
    }
   ],
   "source": [
    "#performing sum of nutural\n",
    "#number\n",
    "sum=0\n",
    "for i in range(1,11):\n",
    "    sum=sum+i\n",
    "    print(\"sum of first 10 natural:\",sum)"
   ]
  },
  {
   "cell_type": "code",
   "execution_count": 54,
   "id": "fd3373b7",
   "metadata": {},
   "outputs": [
    {
     "name": "stdout",
     "output_type": "stream",
     "text": [
      "1\n",
      "2\n",
      "3\n",
      "no break\n"
     ]
    }
   ],
   "source": [
    "for i in range(1,4):\n",
    "    print(i)\n",
    "else:# excuted because no break in for\n",
    "    print(\"no break\")"
   ]
  },
  {
   "cell_type": "code",
   "execution_count": 55,
   "id": "0ad774f7",
   "metadata": {},
   "outputs": [
    {
     "name": "stdout",
     "output_type": "stream",
     "text": [
      "1\n"
     ]
    }
   ],
   "source": [
    "for i in range(1,4):\n",
    "    print(i)\n",
    "    break\n",
    "else:#not excuted as there is a break\n",
    "    print(\"no break\")"
   ]
  },
  {
   "cell_type": "code",
   "execution_count": 61,
   "id": "99538e08",
   "metadata": {
    "collapsed": true
   },
   "outputs": [
    {
     "name": "stdout",
     "output_type": "stream",
     "text": [
      "red apple\n",
      "red banana\n",
      "red cherry\n",
      "big apple\n",
      "big banana\n",
      "big cherry\n",
      "tasty apple\n",
      "tasty banana\n",
      "tasty cherry\n"
     ]
    }
   ],
   "source": [
    "adj=[\"red\",\"big\",\"tasty\"]\n",
    "fruits=[\"apple\",\"banana\",\"cherry\"]\n",
    "for x in adj:\n",
    "    for y in fruits:\n",
    "        print(x,y)"
   ]
  },
  {
   "cell_type": "code",
   "execution_count": 62,
   "id": "bfc0cccf",
   "metadata": {},
   "outputs": [
    {
     "name": "stdout",
     "output_type": "stream",
     "text": [
      "22 rd\n",
      "22 dd\n",
      "22 rk\n",
      "32 rd\n",
      "32 dd\n",
      "32 rk\n",
      "42 rd\n",
      "42 dd\n",
      "42 rk\n"
     ]
    }
   ],
   "source": [
    "age=[\"22\",\"32\",\"42\"]\n",
    "name=[\"rd\",\"dd\",\"rk\"]\n",
    "for x in age:\n",
    "    for y in name:\n",
    "        print(x,y)"
   ]
  },
  {
   "cell_type": "code",
   "execution_count": 1,
   "id": "9f81014f",
   "metadata": {},
   "outputs": [],
   "source": [
    "def hello():\n",
    "    print(\"welcome to ipcs\")"
   ]
  },
  {
   "cell_type": "code",
   "execution_count": 2,
   "id": "4be5ae7f",
   "metadata": {},
   "outputs": [
    {
     "name": "stdout",
     "output_type": "stream",
     "text": [
      "welcome to ipcs\n"
     ]
    }
   ],
   "source": [
    "hello()"
   ]
  },
  {
   "cell_type": "code",
   "execution_count": 4,
   "id": "48d44811",
   "metadata": {},
   "outputs": [],
   "source": [
    "def hello():\n",
    "    print(\"welcome to ipcs\")\n",
    "    #driver code to call a function\n",
    "    "
   ]
  },
  {
   "cell_type": "code",
   "execution_count": 5,
   "id": "3271839e",
   "metadata": {},
   "outputs": [
    {
     "name": "stdout",
     "output_type": "stream",
     "text": [
      "welcome to ipcs\n"
     ]
    }
   ],
   "source": [
    "hello()"
   ]
  },
  {
   "cell_type": "code",
   "execution_count": 10,
   "id": "96b661c1",
   "metadata": {},
   "outputs": [],
   "source": [
    "#a simple python to check\n",
    "#whether x is even or odd\n",
    "def evenorodd(x):\n",
    "    if(x%2==0):\n",
    "        print('even')\n",
    "    else:\n",
    "        print(\"odd\")\n",
    "    #driver code to call the function"
   ]
  },
  {
   "cell_type": "code",
   "execution_count": 11,
   "id": "fb4c20e8",
   "metadata": {},
   "outputs": [
    {
     "name": "stdout",
     "output_type": "stream",
     "text": [
      "even\n"
     ]
    }
   ],
   "source": [
    "evenorodd(6)"
   ]
  },
  {
   "cell_type": "code",
   "execution_count": 12,
   "id": "ea129883",
   "metadata": {},
   "outputs": [
    {
     "name": "stdout",
     "output_type": "stream",
     "text": [
      "odd\n"
     ]
    }
   ],
   "source": [
    "evenorodd(7)"
   ]
  },
  {
   "cell_type": "code",
   "execution_count": null,
   "id": "128e0677",
   "metadata": {},
   "outputs": [],
   "source": []
  }
 ],
 "metadata": {
  "kernelspec": {
   "display_name": "Python 3 (ipykernel)",
   "language": "python",
   "name": "python3"
  },
  "language_info": {
   "codemirror_mode": {
    "name": "ipython",
    "version": 3
   },
   "file_extension": ".py",
   "mimetype": "text/x-python",
   "name": "python",
   "nbconvert_exporter": "python",
   "pygments_lexer": "ipython3",
   "version": "3.11.5"
  }
 },
 "nbformat": 4,
 "nbformat_minor": 5
}
