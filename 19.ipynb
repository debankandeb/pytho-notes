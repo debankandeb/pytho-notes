{
 "cells": [
  {
   "cell_type": "code",
   "execution_count": 3,
   "id": "0732953b",
   "metadata": {},
   "outputs": [],
   "source": [
    "def hello():\n",
    "    print(\"welccome to ipcs\")"
   ]
  },
  {
   "cell_type": "code",
   "execution_count": 4,
   "id": "dee7e7ed",
   "metadata": {},
   "outputs": [
    {
     "name": "stdout",
     "output_type": "stream",
     "text": [
      "welccome to ipcs\n"
     ]
    }
   ],
   "source": [
    "hello()"
   ]
  },
  {
   "cell_type": "code",
   "execution_count": 5,
   "id": "dd09b26e",
   "metadata": {},
   "outputs": [],
   "source": [
    "def hello():\n",
    "    print(\"welcome to ipcs\")"
   ]
  },
  {
   "cell_type": "code",
   "execution_count": 6,
   "id": "6ac1469b",
   "metadata": {},
   "outputs": [
    {
     "name": "stdout",
     "output_type": "stream",
     "text": [
      "welcome to ipcs\n"
     ]
    }
   ],
   "source": [
    "hello()"
   ]
  },
  {
   "cell_type": "code",
   "execution_count": 9,
   "id": "e8190948",
   "metadata": {},
   "outputs": [],
   "source": [
    "\n",
    "def evenorodd(x):\n",
    "    if(x%2==0):\n",
    "        print(\"even\")\n",
    "    else:\n",
    "        print(\"odd\")"
   ]
  },
  {
   "cell_type": "code",
   "execution_count": 11,
   "id": "30d88bf1",
   "metadata": {},
   "outputs": [
    {
     "name": "stdout",
     "output_type": "stream",
     "text": [
      "even\n"
     ]
    }
   ],
   "source": [
    "evenorodd(6)"
   ]
  },
  {
   "cell_type": "code",
   "execution_count": 12,
   "id": "ed359944",
   "metadata": {},
   "outputs": [
    {
     "name": "stdout",
     "output_type": "stream",
     "text": [
      "odd\n"
     ]
    }
   ],
   "source": [
    "evenorodd(7)"
   ]
  },
  {
   "cell_type": "code",
   "execution_count": 19,
   "id": "4a6886f4",
   "metadata": {},
   "outputs": [],
   "source": [
    "def apple(x,y):\n",
    "    result=x+y\n",
    "    print(result)"
   ]
  },
  {
   "cell_type": "code",
   "execution_count": 20,
   "id": "4a048db4",
   "metadata": {},
   "outputs": [
    {
     "name": "stdout",
     "output_type": "stream",
     "text": [
      "23\n"
     ]
    }
   ],
   "source": [
    "apple(11,12)"
   ]
  },
  {
   "cell_type": "code",
   "execution_count": 21,
   "id": "4621ab28",
   "metadata": {},
   "outputs": [],
   "source": [
    "def ball(x,y,z):\n",
    "    result=x*y*z\n",
    "    print(result)"
   ]
  },
  {
   "cell_type": "code",
   "execution_count": 23,
   "id": "f32204b4",
   "metadata": {},
   "outputs": [
    {
     "name": "stdout",
     "output_type": "stream",
     "text": [
      "48\n"
     ]
    }
   ],
   "source": [
    "ball(2,4,6)\n",
    "    "
   ]
  },
  {
   "cell_type": "code",
   "execution_count": 28,
   "id": "ade76df3",
   "metadata": {},
   "outputs": [],
   "source": [
    "def cat(x,y):\n",
    "    if y==0:\n",
    "        print(\"you give a wrong input\")\n",
    "    else:\n",
    "        result=x/y\n",
    "        print(result)\n",
    "    "
   ]
  },
  {
   "cell_type": "code",
   "execution_count": 29,
   "id": "9eb93c60",
   "metadata": {},
   "outputs": [
    {
     "name": "stdout",
     "output_type": "stream",
     "text": [
      "you give a wrong input\n"
     ]
    }
   ],
   "source": [
    "cat(10,0)"
   ]
  },
  {
   "cell_type": "code",
   "execution_count": 32,
   "id": "40b34a06",
   "metadata": {},
   "outputs": [
    {
     "ename": "TypeError",
     "evalue": "cat() missing 1 required positional argument: 'y'",
     "output_type": "error",
     "traceback": [
      "\u001b[1;31m---------------------------------------------------------------------------\u001b[0m",
      "\u001b[1;31mTypeError\u001b[0m                                 Traceback (most recent call last)",
      "Cell \u001b[1;32mIn[32], line 1\u001b[0m\n\u001b[1;32m----> 1\u001b[0m cat(\u001b[38;5;241m566\u001b[39m)\n",
      "\u001b[1;31mTypeError\u001b[0m: cat() missing 1 required positional argument: 'y'"
     ]
    }
   ],
   "source": [
    "cat(566)"
   ]
  },
  {
   "cell_type": "code",
   "execution_count": 30,
   "id": "95f8c338",
   "metadata": {},
   "outputs": [],
   "source": [
    "def myfun(x,y=50):\n",
    "    print(\"x:\",x)\n",
    "    print(\"y:\",y)"
   ]
  },
  {
   "cell_type": "code",
   "execution_count": 31,
   "id": "feab7606",
   "metadata": {},
   "outputs": [
    {
     "name": "stdout",
     "output_type": "stream",
     "text": [
      "x: 10\n",
      "y: 50\n"
     ]
    }
   ],
   "source": [
    "myfun(10)"
   ]
  },
  {
   "cell_type": "code",
   "execution_count": 33,
   "id": "28bf46db",
   "metadata": {},
   "outputs": [
    {
     "name": "stdout",
     "output_type": "stream",
     "text": [
      "x: 10\n",
      "y: 20\n"
     ]
    }
   ],
   "source": [
    "myfun(10,20)"
   ]
  },
  {
   "cell_type": "code",
   "execution_count": 34,
   "id": "f47b0cb9",
   "metadata": {},
   "outputs": [],
   "source": [
    "def student(firstname,lastname):\n",
    "    print(firstname,lastname)\n",
    "    #keyword arguments\n",
    "    "
   ]
  },
  {
   "cell_type": "code",
   "execution_count": 36,
   "id": "06fbb825",
   "metadata": {},
   "outputs": [
    {
     "name": "stdout",
     "output_type": "stream",
     "text": [
      "python function\n"
     ]
    }
   ],
   "source": [
    "student(firstname='python',lastname='function')"
   ]
  },
  {
   "cell_type": "code",
   "execution_count": 37,
   "id": "3aa4c86d",
   "metadata": {},
   "outputs": [
    {
     "name": "stdout",
     "output_type": "stream",
     "text": [
      "deb hello\n"
     ]
    }
   ],
   "source": [
    "student(lastname='hello',firstname='deb')\n"
   ]
  },
  {
   "cell_type": "code",
   "execution_count": 39,
   "id": "63e7aafd",
   "metadata": {},
   "outputs": [
    {
     "ename": "SyntaxError",
     "evalue": "invalid syntax (1979648580.py, line 1)",
     "output_type": "error",
     "traceback": [
      "\u001b[1;36m  Cell \u001b[1;32mIn[39], line 1\u001b[1;36m\u001b[0m\n\u001b[1;33m    student(firstname):\u001b[0m\n\u001b[1;37m                      ^\u001b[0m\n\u001b[1;31mSyntaxError\u001b[0m\u001b[1;31m:\u001b[0m invalid syntax\n"
     ]
    }
   ],
   "source": [
    "student(firstname):\n",
    "    print(firstname)\n",
    "    "
   ]
  },
  {
   "cell_type": "code",
   "execution_count": 42,
   "id": "378c803a",
   "metadata": {},
   "outputs": [],
   "source": [
    "def my_fun(*kids):\n",
    "    print(\"the youngest child is \"+kids[2])\n",
    "    "
   ]
  },
  {
   "cell_type": "code",
   "execution_count": 43,
   "id": "3880b5d5",
   "metadata": {},
   "outputs": [
    {
     "name": "stdout",
     "output_type": "stream",
     "text": [
      "the youngest child is linus\n"
     ]
    }
   ],
   "source": [
    "my_fun(\"emil\",\"tobias\",\"linus\")"
   ]
  },
  {
   "cell_type": "code",
   "execution_count": 45,
   "id": "24f7c284",
   "metadata": {},
   "outputs": [],
   "source": [
    "def myfun(*argv):\n",
    "    for x in argv:\n",
    "        print(x)"
   ]
  },
  {
   "cell_type": "code",
   "execution_count": 46,
   "id": "892b6971",
   "metadata": {},
   "outputs": [
    {
     "name": "stdout",
     "output_type": "stream",
     "text": [
      "hello\n",
      "welcome\n",
      "to\n",
      "ipcs\n"
     ]
    }
   ],
   "source": [
    "myfun('hello','welcome','to','ipcs')"
   ]
  },
  {
   "cell_type": "code",
   "execution_count": 54,
   "id": "15259b80",
   "metadata": {},
   "outputs": [],
   "source": [
    "def my_fun(**student):\n",
    "    print('his first name is  ' +student['iname'])"
   ]
  },
  {
   "cell_type": "code",
   "execution_count": 55,
   "id": "56c867c5",
   "metadata": {},
   "outputs": [
    {
     "name": "stdout",
     "output_type": "stream",
     "text": [
      "his first name is  s\n"
     ]
    }
   ],
   "source": [
    "my_fun(fname='vignesh',iname='s')"
   ]
  },
  {
   "cell_type": "code",
   "execution_count": 65,
   "id": "c537229e",
   "metadata": {},
   "outputs": [],
   "source": [
    "def myfun(**kwargs):\n",
    "    for key,value in kwargs.items():\n",
    "        print(key + \"==\" +  value)"
   ]
  },
  {
   "cell_type": "code",
   "execution_count": 66,
   "id": "e60e1b5b",
   "metadata": {},
   "outputs": [
    {
     "name": "stdout",
     "output_type": "stream",
     "text": [
      "first==welcome\n",
      "mid==for\n",
      "last==course\n"
     ]
    }
   ],
   "source": [
    "myfun(first='welcome',mid='for',last='course')\n"
   ]
  },
  {
   "cell_type": "code",
   "execution_count": 75,
   "id": "e17d04d5",
   "metadata": {},
   "outputs": [],
   "source": [
    "def my_fun(country='norway'):\n",
    "    print('i am from ' +country)"
   ]
  },
  {
   "cell_type": "code",
   "execution_count": 76,
   "id": "28fb52c1",
   "metadata": {},
   "outputs": [
    {
     "name": "stdout",
     "output_type": "stream",
     "text": [
      "i am from norway\n"
     ]
    }
   ],
   "source": [
    "my_fun()"
   ]
  },
  {
   "cell_type": "code",
   "execution_count": 77,
   "id": "cec97c1a",
   "metadata": {},
   "outputs": [
    {
     "name": "stdout",
     "output_type": "stream",
     "text": [
      "i am from sweden\n"
     ]
    }
   ],
   "source": [
    "my_fun('sweden')"
   ]
  },
  {
   "cell_type": "code",
   "execution_count": 78,
   "id": "61a4f8f1",
   "metadata": {},
   "outputs": [
    {
     "name": "stdout",
     "output_type": "stream",
     "text": [
      "i am from india\n"
     ]
    }
   ],
   "source": [
    "my_fun('india')"
   ]
  },
  {
   "cell_type": "code",
   "execution_count": 79,
   "id": "9fbf0604",
   "metadata": {},
   "outputs": [
    {
     "name": "stdout",
     "output_type": "stream",
     "text": [
      "i am from brazil\n"
     ]
    }
   ],
   "source": [
    "my_fun('brazil')"
   ]
  },
  {
   "cell_type": "code",
   "execution_count": 87,
   "id": "411e074c",
   "metadata": {},
   "outputs": [],
   "source": [
    "def my_fun(xyz):\n",
    "    for x in xyz:\n",
    "        print(x)\n",
    "fruit=['apple','banana','cherry']"
   ]
  },
  {
   "cell_type": "code",
   "execution_count": 88,
   "id": "7bf6a59f",
   "metadata": {},
   "outputs": [
    {
     "name": "stdout",
     "output_type": "stream",
     "text": [
      "apple\n",
      "banana\n",
      "cherry\n"
     ]
    }
   ],
   "source": [
    "my_fun(fruit)"
   ]
  },
  {
   "cell_type": "code",
   "execution_count": 103,
   "id": "86ce197e",
   "metadata": {},
   "outputs": [
    {
     "name": "stdout",
     "output_type": "stream",
     "text": [
      "put the value of x2\n",
      "put the value of y4\n"
     ]
    }
   ],
   "source": [
    "def my_fun(x,y):\n",
    "    addition=x+y\n",
    "    multi=x*y\n",
    "    div=y/x\n",
    "    print(addition, multi,div)\n",
    "x=float(input('put the value of x'))\n",
    "y=float(input('put the value of y'))"
   ]
  },
  {
   "cell_type": "code",
   "execution_count": 104,
   "id": "3f22dad2",
   "metadata": {},
   "outputs": [
    {
     "name": "stdout",
     "output_type": "stream",
     "text": [
      "6.0 8.0 2.0\n"
     ]
    }
   ],
   "source": [
    "my_fun(x,y)"
   ]
  },
  {
   "cell_type": "code",
   "execution_count": 105,
   "id": "e4a64ddb",
   "metadata": {},
   "outputs": [],
   "source": [
    "def squre_value(num):\n",
    "    return num **2\n"
   ]
  },
  {
   "cell_type": "code",
   "execution_count": 106,
   "id": "d9a4691c",
   "metadata": {},
   "outputs": [
    {
     "name": "stdout",
     "output_type": "stream",
     "text": [
      "4\n"
     ]
    }
   ],
   "source": [
    "print(squre_value(2))"
   ]
  },
  {
   "cell_type": "code",
   "execution_count": 107,
   "id": "acb63ae5",
   "metadata": {},
   "outputs": [
    {
     "name": "stdout",
     "output_type": "stream",
     "text": [
      "16\n"
     ]
    }
   ],
   "source": [
    "print(squre_value(-4))\n"
   ]
  },
  {
   "cell_type": "code",
   "execution_count": 108,
   "id": "9cfb35db",
   "metadata": {},
   "outputs": [],
   "source": [
    "def myfun(x):\n",
    "    x[0]=30\n",
    "    "
   ]
  },
  {
   "cell_type": "code",
   "execution_count": 109,
   "id": "8215253a",
   "metadata": {},
   "outputs": [],
   "source": [
    "lst=[9,11,13,14,15]"
   ]
  },
  {
   "cell_type": "code",
   "execution_count": 110,
   "id": "28b1e3ca",
   "metadata": {},
   "outputs": [],
   "source": [
    "myfun(lst)\n"
   ]
  },
  {
   "cell_type": "code",
   "execution_count": 111,
   "id": "ce6b028c",
   "metadata": {},
   "outputs": [
    {
     "name": "stdout",
     "output_type": "stream",
     "text": [
      "[30, 11, 13, 14, 15]\n"
     ]
    }
   ],
   "source": [
    "print(lst)"
   ]
  },
  {
   "cell_type": "code",
   "execution_count": 114,
   "id": "bb8be00f",
   "metadata": {},
   "outputs": [],
   "source": [
    "def f1():\n",
    "    s='i love python'\n",
    "    def f2():\n",
    "        print(s)\n",
    "    f2()"
   ]
  },
  {
   "cell_type": "code",
   "execution_count": 115,
   "id": "13bb73d6",
   "metadata": {},
   "outputs": [
    {
     "name": "stdout",
     "output_type": "stream",
     "text": [
      "i love python\n"
     ]
    }
   ],
   "source": [
    "f1()"
   ]
  },
  {
   "cell_type": "code",
   "execution_count": 116,
   "id": "b092a869",
   "metadata": {},
   "outputs": [],
   "source": [
    "string='hello python'"
   ]
  },
  {
   "cell_type": "code",
   "execution_count": 117,
   "id": "e9b89ca4",
   "metadata": {},
   "outputs": [
    {
     "name": "stdout",
     "output_type": "stream",
     "text": [
      "<function <lambda> at 0x00000155C7B63420>\n"
     ]
    }
   ],
   "source": [
    "print(lambda  string:string)"
   ]
  },
  {
   "cell_type": "code",
   "execution_count": 118,
   "id": "e2a63827",
   "metadata": {},
   "outputs": [],
   "source": [
    "def cube(y):\n",
    "    return y*y*y"
   ]
  },
  {
   "cell_type": "code",
   "execution_count": 119,
   "id": "95d5bc82",
   "metadata": {},
   "outputs": [
    {
     "name": "stdout",
     "output_type": "stream",
     "text": [
      "125\n"
     ]
    }
   ],
   "source": [
    "print(cube(5))"
   ]
  },
  {
   "cell_type": "code",
   "execution_count": 120,
   "id": "71a7aef0",
   "metadata": {},
   "outputs": [],
   "source": [
    "g=lambda x:x*x*x"
   ]
  },
  {
   "cell_type": "code",
   "execution_count": 121,
   "id": "22be3df7",
   "metadata": {},
   "outputs": [
    {
     "name": "stdout",
     "output_type": "stream",
     "text": [
      "343\n"
     ]
    }
   ],
   "source": [
    "print(g(7))"
   ]
  },
  {
   "cell_type": "code",
   "execution_count": 134,
   "id": "763aefea",
   "metadata": {},
   "outputs": [],
   "source": [
    "def power(n):\n",
    "    return lambda a:a ** n"
   ]
  },
  {
   "cell_type": "code",
   "execution_count": 135,
   "id": "960abf3c",
   "metadata": {},
   "outputs": [],
   "source": [
    "base=power(2)"
   ]
  },
  {
   "cell_type": "code",
   "execution_count": 137,
   "id": "a12003b0",
   "metadata": {},
   "outputs": [
    {
     "name": "stdout",
     "output_type": "stream",
     "text": [
      "now power is set to 2\n",
      "6 powerof 2= 36\n"
     ]
    }
   ],
   "source": [
    "print('now power is set to 2')\n",
    "print('6 powerof 2=',base(6))"
   ]
  },
  {
   "cell_type": "code",
   "execution_count": 138,
   "id": "54829861",
   "metadata": {},
   "outputs": [],
   "source": [
    "base=power(5)"
   ]
  },
  {
   "cell_type": "code",
   "execution_count": 140,
   "id": "0dbffcb0",
   "metadata": {},
   "outputs": [
    {
     "name": "stdout",
     "output_type": "stream",
     "text": [
      "now power is set to 5\n",
      "8 powerof 5= 7776\n"
     ]
    }
   ],
   "source": [
    "print('now power is set to 5')\n",
    "print('8 powerof 5=',base(6))"
   ]
  },
  {
   "cell_type": "code",
   "execution_count": 141,
   "id": "a26b568a",
   "metadata": {},
   "outputs": [],
   "source": [
    "a=[100,2,8,60,5,4,3,31,10,11]"
   ]
  },
  {
   "cell_type": "code",
   "execution_count": 142,
   "id": "be9a21fb",
   "metadata": {},
   "outputs": [],
   "source": [
    "filtered=filter(lambda x:x % 2==0,a)"
   ]
  },
  {
   "cell_type": "code",
   "execution_count": 144,
   "id": "0a6bd9ae",
   "metadata": {},
   "outputs": [
    {
     "name": "stdout",
     "output_type": "stream",
     "text": [
      "[100, 2, 8, 60, 4, 10]\n"
     ]
    }
   ],
   "source": [
    "print(list(filtered))"
   ]
  },
  {
   "cell_type": "code",
   "execution_count": 148,
   "id": "ad0ff2c9",
   "metadata": {},
   "outputs": [],
   "source": [
    "maped=map(lambda x:x % 2==0,a)"
   ]
  },
  {
   "cell_type": "code",
   "execution_count": 146,
   "id": "53979a6d",
   "metadata": {},
   "outputs": [
    {
     "name": "stdout",
     "output_type": "stream",
     "text": [
      "[True, True, True, True, False, True, False, False, True, False]\n"
     ]
    }
   ],
   "source": [
    "print(list(maped))"
   ]
  },
  {
   "cell_type": "code",
   "execution_count": 154,
   "id": "d34caff3",
   "metadata": {},
   "outputs": [],
   "source": [
    "def myfun():\n",
    "    print(s)\n",
    "   "
   ]
  },
  {
   "cell_type": "code",
   "execution_count": 155,
   "id": "16eecba7",
   "metadata": {},
   "outputs": [],
   "source": [
    "  s='i love python'"
   ]
  },
  {
   "cell_type": "code",
   "execution_count": 156,
   "id": "75dda839",
   "metadata": {},
   "outputs": [
    {
     "name": "stdout",
     "output_type": "stream",
     "text": [
      "i love python\n"
     ]
    }
   ],
   "source": [
    "myfun()"
   ]
  },
  {
   "cell_type": "code",
   "execution_count": 163,
   "id": "439ab0f8",
   "metadata": {},
   "outputs": [],
   "source": [
    "def myfun():\n",
    "    s='me too.'\n",
    "    print(s)\n",
    "    "
   ]
  },
  {
   "cell_type": "code",
   "execution_count": 164,
   "id": "b24a756e",
   "metadata": {},
   "outputs": [
    {
     "name": "stdout",
     "output_type": "stream",
     "text": [
      "me too.\n"
     ]
    }
   ],
   "source": [
    "myfun()"
   ]
  },
  {
   "cell_type": "code",
   "execution_count": 165,
   "id": "120630b6",
   "metadata": {},
   "outputs": [
    {
     "name": "stdout",
     "output_type": "stream",
     "text": [
      "i love python\n"
     ]
    }
   ],
   "source": [
    "print(s)"
   ]
  },
  {
   "cell_type": "code",
   "execution_count": 160,
   "id": "1ba05fcf",
   "metadata": {},
   "outputs": [],
   "source": [
    "x=1"
   ]
  },
  {
   "cell_type": "code",
   "execution_count": 161,
   "id": "7644b702",
   "metadata": {},
   "outputs": [],
   "source": [
    "x=5"
   ]
  },
  {
   "cell_type": "code",
   "execution_count": 162,
   "id": "36d0a08f",
   "metadata": {},
   "outputs": [
    {
     "name": "stdout",
     "output_type": "stream",
     "text": [
      "5\n"
     ]
    }
   ],
   "source": [
    "print(x)"
   ]
  },
  {
   "cell_type": "code",
   "execution_count": 14,
   "id": "d8728712",
   "metadata": {},
   "outputs": [],
   "source": [
    "a=1\n",
    "def f():\n",
    "    print('inside f():',a)\n",
    "def g():\n",
    "    a=2\n",
    "    print('inside g():',a)\n",
    "def h():\n",
    "    global a\n",
    "    a=3\n",
    "    print('inside h():',a)"
   ]
  },
  {
   "cell_type": "code",
   "execution_count": 7,
   "id": "91f9b059",
   "metadata": {},
   "outputs": [
    {
     "name": "stdout",
     "output_type": "stream",
     "text": [
      "global: 1\n"
     ]
    }
   ],
   "source": [
    "print('global:',a)"
   ]
  },
  {
   "cell_type": "code",
   "execution_count": 17,
   "id": "c5e75eba",
   "metadata": {},
   "outputs": [
    {
     "name": "stdout",
     "output_type": "stream",
     "text": [
      "inside f(): 3\n"
     ]
    }
   ],
   "source": [
    "f()"
   ]
  },
  {
   "cell_type": "code",
   "execution_count": 4,
   "id": "3baea2e1",
   "metadata": {},
   "outputs": [
    {
     "name": "stdout",
     "output_type": "stream",
     "text": [
      "global: 1\n"
     ]
    }
   ],
   "source": [
    "print('global:',a)"
   ]
  },
  {
   "cell_type": "code",
   "execution_count": 11,
   "id": "155778e7",
   "metadata": {},
   "outputs": [
    {
     "name": "stdout",
     "output_type": "stream",
     "text": [
      "inside g(): 2\n"
     ]
    }
   ],
   "source": [
    "g()"
   ]
  },
  {
   "cell_type": "code",
   "execution_count": 16,
   "id": "bc508a4e",
   "metadata": {},
   "outputs": [
    {
     "name": "stdout",
     "output_type": "stream",
     "text": [
      "inside h(): 3\n"
     ]
    }
   ],
   "source": [
    "h()"
   ]
  },
  {
   "cell_type": "code",
   "execution_count": 18,
   "id": "ab725217",
   "metadata": {},
   "outputs": [],
   "source": [
    "def shout(text):\n",
    "    return text.upper()\n"
   ]
  },
  {
   "cell_type": "code",
   "execution_count": 19,
   "id": "68bdeeef",
   "metadata": {},
   "outputs": [
    {
     "name": "stdout",
     "output_type": "stream",
     "text": [
      "HELLO\n"
     ]
    }
   ],
   "source": [
    "print(shout('hello'))"
   ]
  },
  {
   "cell_type": "code",
   "execution_count": 20,
   "id": "3b4a382a",
   "metadata": {},
   "outputs": [],
   "source": [
    "yell=shout"
   ]
  },
  {
   "cell_type": "code",
   "execution_count": 22,
   "id": "675a9c38",
   "metadata": {},
   "outputs": [
    {
     "name": "stdout",
     "output_type": "stream",
     "text": [
      "HELLIKJKKO\n"
     ]
    }
   ],
   "source": [
    "print(yell('hellikjkko'))"
   ]
  },
  {
   "cell_type": "code",
   "execution_count": 1,
   "id": "039d6e1f",
   "metadata": {},
   "outputs": [],
   "source": [
    "def shout(text):\n",
    "    return text.upper()\n",
    "def whisper(text):\n",
    "    return text.lower()\n",
    "def greet(func):\n",
    "    greeting=func('''hi,i am created by a function passed as an argument.''')"
   ]
  },
  {
   "cell_type": "code",
   "execution_count": 2,
   "id": "3026985e",
   "metadata": {},
   "outputs": [
    {
     "name": "stdout",
     "output_type": "stream",
     "text": [
      "<function greet at 0x0000021CFB8CE200>\n"
     ]
    }
   ],
   "source": [
    "print(greet)"
   ]
  },
  {
   "cell_type": "code",
   "execution_count": 3,
   "id": "13a1fe7d",
   "metadata": {},
   "outputs": [
    {
     "name": "stdout",
     "output_type": "stream",
     "text": [
      "<function shout at 0x0000021CFB8CE7A0>\n"
     ]
    }
   ],
   "source": [
    "print(shout)"
   ]
  },
  {
   "cell_type": "code",
   "execution_count": 5,
   "id": "22c7b6a5",
   "metadata": {},
   "outputs": [
    {
     "name": "stdout",
     "output_type": "stream",
     "text": [
      "<function whisper at 0x0000021CFB8CE8E0>\n"
     ]
    }
   ],
   "source": [
    "print(whisper)"
   ]
  },
  {
   "cell_type": "code",
   "execution_count": 7,
   "id": "c9a3adc5",
   "metadata": {},
   "outputs": [],
   "source": [
    "def creat_adder(x):\n",
    "    def adder(y):\n",
    "        return x+y\n",
    "    return adder\n"
   ]
  },
  {
   "cell_type": "code",
   "execution_count": 11,
   "id": "f59df4a2",
   "metadata": {},
   "outputs": [],
   "source": [
    "add_15= creat_adder(15)"
   ]
  },
  {
   "cell_type": "code",
   "execution_count": 12,
   "id": "c35795b4",
   "metadata": {},
   "outputs": [
    {
     "name": "stdout",
     "output_type": "stream",
     "text": [
      "25\n"
     ]
    }
   ],
   "source": [
    "print(add_15(10))"
   ]
  },
  {
   "cell_type": "code",
   "execution_count": 13,
   "id": "21453d7b",
   "metadata": {},
   "outputs": [],
   "source": [
    "x=1*2*3*4*5"
   ]
  },
  {
   "cell_type": "code",
   "execution_count": 14,
   "id": "5072e80a",
   "metadata": {},
   "outputs": [
    {
     "name": "stdout",
     "output_type": "stream",
     "text": [
      "120\n"
     ]
    }
   ],
   "source": [
    "print(x)"
   ]
  },
  {
   "cell_type": "code",
   "execution_count": null,
   "id": "d79906d5",
   "metadata": {},
   "outputs": [],
   "source": []
  }
 ],
 "metadata": {
  "kernelspec": {
   "display_name": "Python 3 (ipykernel)",
   "language": "python",
   "name": "python3"
  },
  "language_info": {
   "codemirror_mode": {
    "name": "ipython",
    "version": 3
   },
   "file_extension": ".py",
   "mimetype": "text/x-python",
   "name": "python",
   "nbconvert_exporter": "python",
   "pygments_lexer": "ipython3",
   "version": "3.11.5"
  }
 },
 "nbformat": 4,
 "nbformat_minor": 5
}
