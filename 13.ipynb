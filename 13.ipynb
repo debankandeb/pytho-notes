{
 "cells": [
  {
   "cell_type": "code",
   "execution_count": 1,
   "id": "696cfd6f",
   "metadata": {},
   "outputs": [],
   "source": [
    "x=\"hello python\""
   ]
  },
  {
   "cell_type": "code",
   "execution_count": 3,
   "id": "91e32efd",
   "metadata": {},
   "outputs": [
    {
     "name": "stdout",
     "output_type": "stream",
     "text": [
      "<class 'str'>\n"
     ]
    }
   ],
   "source": [
    "print(type(x))"
   ]
  },
  {
   "cell_type": "code",
   "execution_count": null,
   "id": "0fd688f8",
   "metadata": {},
   "outputs": [],
   "source": []
  },
  {
   "cell_type": "code",
   "execution_count": 4,
   "id": "b645d023",
   "metadata": {},
   "outputs": [],
   "source": [
    "y=123"
   ]
  },
  {
   "cell_type": "code",
   "execution_count": 5,
   "id": "b17a64a0",
   "metadata": {},
   "outputs": [
    {
     "name": "stdout",
     "output_type": "stream",
     "text": [
      "123\n"
     ]
    }
   ],
   "source": [
    "print(y)"
   ]
  },
  {
   "cell_type": "code",
   "execution_count": 7,
   "id": "bab2256c",
   "metadata": {},
   "outputs": [
    {
     "name": "stdout",
     "output_type": "stream",
     "text": [
      "1.23\n"
     ]
    }
   ],
   "source": [
    "z=1.23\n",
    "print(z)"
   ]
  },
  {
   "cell_type": "code",
   "execution_count": 14,
   "id": "f9f63b99",
   "metadata": {},
   "outputs": [],
   "source": [
    "a=True"
   ]
  },
  {
   "cell_type": "code",
   "execution_count": 15,
   "id": "b9cf7a77",
   "metadata": {},
   "outputs": [
    {
     "data": {
      "text/plain": [
       "bool"
      ]
     },
     "execution_count": 15,
     "metadata": {},
     "output_type": "execute_result"
    }
   ],
   "source": [
    "type(a)"
   ]
  },
  {
   "cell_type": "code",
   "execution_count": 16,
   "id": "2585b58d",
   "metadata": {},
   "outputs": [
    {
     "name": "stdout",
     "output_type": "stream",
     "text": [
      "True\n"
     ]
    }
   ],
   "source": [
    "print(a)\n"
   ]
  },
  {
   "cell_type": "code",
   "execution_count": 19,
   "id": "bdcaa4b8",
   "metadata": {},
   "outputs": [],
   "source": [
    "b=\"1234\""
   ]
  },
  {
   "cell_type": "code",
   "execution_count": 20,
   "id": "11fc1c7f",
   "metadata": {},
   "outputs": [
    {
     "name": "stdout",
     "output_type": "stream",
     "text": [
      "1234\n"
     ]
    }
   ],
   "source": [
    "print(b)"
   ]
  },
  {
   "cell_type": "code",
   "execution_count": 21,
   "id": "e398b165",
   "metadata": {},
   "outputs": [
    {
     "data": {
      "text/plain": [
       "str"
      ]
     },
     "execution_count": 21,
     "metadata": {},
     "output_type": "execute_result"
    }
   ],
   "source": [
    "type(b)"
   ]
  },
  {
   "cell_type": "code",
   "execution_count": 22,
   "id": "7a000dce",
   "metadata": {},
   "outputs": [],
   "source": [
    "b=int(b)\n"
   ]
  },
  {
   "cell_type": "code",
   "execution_count": 23,
   "id": "f1c3535f",
   "metadata": {},
   "outputs": [
    {
     "data": {
      "text/plain": [
       "int"
      ]
     },
     "execution_count": 23,
     "metadata": {},
     "output_type": "execute_result"
    }
   ],
   "source": [
    "type(b)"
   ]
  },
  {
   "cell_type": "code",
   "execution_count": 24,
   "id": "98e5a4b3",
   "metadata": {},
   "outputs": [
    {
     "name": "stdout",
     "output_type": "stream",
     "text": [
      "1234\n"
     ]
    }
   ],
   "source": [
    "print(b)"
   ]
  },
  {
   "cell_type": "code",
   "execution_count": 25,
   "id": "f99e06af",
   "metadata": {},
   "outputs": [],
   "source": [
    "x=\"hello\""
   ]
  },
  {
   "cell_type": "code",
   "execution_count": 26,
   "id": "597c71b7",
   "metadata": {},
   "outputs": [],
   "source": [
    "y=\"python\""
   ]
  },
  {
   "cell_type": "code",
   "execution_count": 27,
   "id": "74d29d0c",
   "metadata": {},
   "outputs": [],
   "source": [
    "var=x+y"
   ]
  },
  {
   "cell_type": "code",
   "execution_count": 28,
   "id": "8fb49d91",
   "metadata": {},
   "outputs": [
    {
     "name": "stdout",
     "output_type": "stream",
     "text": [
      "hellopython\n"
     ]
    }
   ],
   "source": [
    "print(var)"
   ]
  },
  {
   "cell_type": "code",
   "execution_count": 29,
   "id": "210a8c15",
   "metadata": {},
   "outputs": [
    {
     "data": {
      "text/plain": [
       "str"
      ]
     },
     "execution_count": 29,
     "metadata": {},
     "output_type": "execute_result"
    }
   ],
   "source": [
    "type(var)"
   ]
  },
  {
   "cell_type": "code",
   "execution_count": 31,
   "id": "46202179",
   "metadata": {},
   "outputs": [],
   "source": [
    "x= \"my age is\""
   ]
  },
  {
   "cell_type": "code",
   "execution_count": 32,
   "id": "da668b1b",
   "metadata": {},
   "outputs": [],
   "source": [
    "y=21"
   ]
  },
  {
   "cell_type": "code",
   "execution_count": 35,
   "id": "d4b9de8d",
   "metadata": {},
   "outputs": [],
   "source": [
    "var=x+str(y)"
   ]
  },
  {
   "cell_type": "code",
   "execution_count": 36,
   "id": "c47aa4d9",
   "metadata": {},
   "outputs": [
    {
     "name": "stdout",
     "output_type": "stream",
     "text": [
      "my age is21\n"
     ]
    }
   ],
   "source": [
    "print(var)"
   ]
  },
  {
   "cell_type": "code",
   "execution_count": 37,
   "id": "7a2bb3c9",
   "metadata": {},
   "outputs": [
    {
     "name": "stdout",
     "output_type": "stream",
     "text": [
      "enter your age22\n"
     ]
    }
   ],
   "source": [
    "x=input(\"enter your age\")"
   ]
  },
  {
   "cell_type": "code",
   "execution_count": 38,
   "id": "502bf252",
   "metadata": {},
   "outputs": [],
   "source": [
    "y=\"my age is\""
   ]
  },
  {
   "cell_type": "code",
   "execution_count": 39,
   "id": "1c9377c8",
   "metadata": {},
   "outputs": [],
   "source": [
    "z=y+x"
   ]
  },
  {
   "cell_type": "code",
   "execution_count": 40,
   "id": "aaa017ad",
   "metadata": {},
   "outputs": [
    {
     "name": "stdout",
     "output_type": "stream",
     "text": [
      "my age is22\n"
     ]
    }
   ],
   "source": [
    "print(z)"
   ]
  },
  {
   "cell_type": "code",
   "execution_count": 41,
   "id": "3eedc496",
   "metadata": {},
   "outputs": [
    {
     "data": {
      "text/plain": [
       "str"
      ]
     },
     "execution_count": 41,
     "metadata": {},
     "output_type": "execute_result"
    }
   ],
   "source": [
    "type(x)"
   ]
  },
  {
   "cell_type": "code",
   "execution_count": 51,
   "id": "a1b7c5f5",
   "metadata": {},
   "outputs": [
    {
     "name": "stdout",
     "output_type": "stream",
     "text": [
      "enter a number55\n"
     ]
    }
   ],
   "source": [
    "x=input(\"enter a number\")"
   ]
  },
  {
   "cell_type": "code",
   "execution_count": 46,
   "id": "77ebb3bd",
   "metadata": {},
   "outputs": [
    {
     "name": "stdout",
     "output_type": "stream",
     "text": [
      "enter another number55\n"
     ]
    }
   ],
   "source": [
    "y=input(\"enter another number\")"
   ]
  },
  {
   "cell_type": "code",
   "execution_count": 55,
   "id": "7734eeae",
   "metadata": {},
   "outputs": [],
   "source": [
    "z=x+y"
   ]
  },
  {
   "cell_type": "code",
   "execution_count": 56,
   "id": "2b978a90",
   "metadata": {},
   "outputs": [
    {
     "name": "stdout",
     "output_type": "stream",
     "text": [
      "5555\n"
     ]
    }
   ],
   "source": [
    "print(z)"
   ]
  },
  {
   "cell_type": "code",
   "execution_count": 57,
   "id": "622bae89",
   "metadata": {},
   "outputs": [],
   "source": [
    "x=int(x)"
   ]
  },
  {
   "cell_type": "code",
   "execution_count": 58,
   "id": "f549756b",
   "metadata": {},
   "outputs": [],
   "source": [
    "y= int(y)"
   ]
  },
  {
   "cell_type": "code",
   "execution_count": 59,
   "id": "7b03f194",
   "metadata": {},
   "outputs": [],
   "source": [
    "z=x+y"
   ]
  },
  {
   "cell_type": "code",
   "execution_count": 60,
   "id": "611134dd",
   "metadata": {},
   "outputs": [
    {
     "name": "stdout",
     "output_type": "stream",
     "text": [
      "110\n"
     ]
    }
   ],
   "source": [
    "print(z)"
   ]
  },
  {
   "cell_type": "code",
   "execution_count": 61,
   "id": "75841fee",
   "metadata": {},
   "outputs": [
    {
     "name": "stdout",
     "output_type": "stream",
     "text": [
      "enter today date13\n"
     ]
    }
   ],
   "source": [
    "x=input(\"enter today date\")"
   ]
  },
  {
   "cell_type": "code",
   "execution_count": 62,
   "id": "e55c0776",
   "metadata": {},
   "outputs": [
    {
     "name": "stdout",
     "output_type": "stream",
     "text": [
      "enter yesterday date12\n"
     ]
    }
   ],
   "source": [
    "y=input(\"enter yesterday date\")"
   ]
  },
  {
   "cell_type": "code",
   "execution_count": 63,
   "id": "b76096ce",
   "metadata": {},
   "outputs": [],
   "source": [
    "z=x+y"
   ]
  },
  {
   "cell_type": "code",
   "execution_count": 64,
   "id": "dd9d5c28",
   "metadata": {},
   "outputs": [],
   "source": [
    "x=int(x)"
   ]
  },
  {
   "cell_type": "code",
   "execution_count": 65,
   "id": "d44c0f19",
   "metadata": {},
   "outputs": [],
   "source": [
    "y=int(y)"
   ]
  },
  {
   "cell_type": "code",
   "execution_count": 66,
   "id": "bdb71910",
   "metadata": {},
   "outputs": [],
   "source": [
    "z=x+y"
   ]
  },
  {
   "cell_type": "code",
   "execution_count": 67,
   "id": "677b02c5",
   "metadata": {},
   "outputs": [
    {
     "name": "stdout",
     "output_type": "stream",
     "text": [
      "25\n"
     ]
    }
   ],
   "source": [
    "print(z)"
   ]
  },
  {
   "cell_type": "code",
   "execution_count": 68,
   "id": "2fabd09b",
   "metadata": {},
   "outputs": [],
   "source": [
    "x=int(x)"
   ]
  },
  {
   "cell_type": "code",
   "execution_count": 69,
   "id": "3de8d7ac",
   "metadata": {},
   "outputs": [],
   "source": [
    "y=int(y)"
   ]
  },
  {
   "cell_type": "code",
   "execution_count": 71,
   "id": "13b3ea0f",
   "metadata": {},
   "outputs": [],
   "source": [
    "z=x*y"
   ]
  },
  {
   "cell_type": "code",
   "execution_count": 72,
   "id": "d6337b67",
   "metadata": {},
   "outputs": [
    {
     "name": "stdout",
     "output_type": "stream",
     "text": [
      "156\n"
     ]
    }
   ],
   "source": [
    "print(z)"
   ]
  },
  {
   "cell_type": "code",
   "execution_count": 73,
   "id": "e5a87224",
   "metadata": {},
   "outputs": [],
   "source": [
    "x=int(x)"
   ]
  },
  {
   "cell_type": "code",
   "execution_count": 74,
   "id": "f9e1e666",
   "metadata": {},
   "outputs": [],
   "source": [
    "y=int(y)"
   ]
  },
  {
   "cell_type": "code",
   "execution_count": 75,
   "id": "a34c4c8d",
   "metadata": {},
   "outputs": [],
   "source": [
    "z=x/y"
   ]
  },
  {
   "cell_type": "code",
   "execution_count": 76,
   "id": "bb0986c5",
   "metadata": {},
   "outputs": [
    {
     "name": "stdout",
     "output_type": "stream",
     "text": [
      "1.0833333333333333\n"
     ]
    }
   ],
   "source": [
    "print(z)"
   ]
  },
  {
   "cell_type": "code",
   "execution_count": 77,
   "id": "bf024b7f",
   "metadata": {},
   "outputs": [],
   "source": [
    "x=int(x)"
   ]
  },
  {
   "cell_type": "code",
   "execution_count": 78,
   "id": "60c2ccc9",
   "metadata": {},
   "outputs": [],
   "source": [
    "y=int(y)"
   ]
  },
  {
   "cell_type": "code",
   "execution_count": 79,
   "id": "40851afa",
   "metadata": {},
   "outputs": [],
   "source": [
    "z=x%y"
   ]
  },
  {
   "cell_type": "code",
   "execution_count": 80,
   "id": "bc95ba24",
   "metadata": {},
   "outputs": [
    {
     "name": "stdout",
     "output_type": "stream",
     "text": [
      "1\n"
     ]
    }
   ],
   "source": [
    "print(z)"
   ]
  },
  {
   "cell_type": "code",
   "execution_count": 82,
   "id": "5e2ec2ce",
   "metadata": {},
   "outputs": [
    {
     "name": "stdout",
     "output_type": "stream",
     "text": [
      "enter a number33\n"
     ]
    }
   ],
   "source": [
    "x=int(input(\"enter a number\"))"
   ]
  },
  {
   "cell_type": "code",
   "execution_count": 83,
   "id": "25ab9ae8",
   "metadata": {},
   "outputs": [
    {
     "data": {
      "text/plain": [
       "int"
      ]
     },
     "execution_count": 83,
     "metadata": {},
     "output_type": "execute_result"
    }
   ],
   "source": [
    "type(x)"
   ]
  },
  {
   "cell_type": "code",
   "execution_count": 85,
   "id": "f7968e82",
   "metadata": {},
   "outputs": [],
   "source": [
    "x=\"abc\""
   ]
  },
  {
   "cell_type": "code",
   "execution_count": 86,
   "id": "8f558013",
   "metadata": {},
   "outputs": [
    {
     "ename": "ValueError",
     "evalue": "invalid literal for int() with base 10: 'abc'",
     "output_type": "error",
     "traceback": [
      "\u001b[1;31m---------------------------------------------------------------------------\u001b[0m",
      "\u001b[1;31mValueError\u001b[0m                                Traceback (most recent call last)",
      "Cell \u001b[1;32mIn[86], line 1\u001b[0m\n\u001b[1;32m----> 1\u001b[0m x\u001b[38;5;241m=\u001b[39m\u001b[38;5;28mint\u001b[39m(x)\n",
      "\u001b[1;31mValueError\u001b[0m: invalid literal for int() with base 10: 'abc'"
     ]
    }
   ],
   "source": [
    "x=int(x)"
   ]
  },
  {
   "cell_type": "code",
   "execution_count": 90,
   "id": "090d2448",
   "metadata": {},
   "outputs": [],
   "source": [
    "x=\"debankan_deb\""
   ]
  },
  {
   "cell_type": "code",
   "execution_count": 93,
   "id": "7e7381c1",
   "metadata": {},
   "outputs": [
    {
     "name": "stdout",
     "output_type": "stream",
     "text": [
      "_\n"
     ]
    }
   ],
   "source": [
    "print(x[8])"
   ]
  },
  {
   "cell_type": "code",
   "execution_count": 97,
   "id": "5bb50109",
   "metadata": {},
   "outputs": [
    {
     "data": {
      "text/plain": [
       "'debankan'"
      ]
     },
     "execution_count": 97,
     "metadata": {},
     "output_type": "execute_result"
    }
   ],
   "source": [
    "x[0:8]"
   ]
  },
  {
   "cell_type": "code",
   "execution_count": 100,
   "id": "e12c2a2e",
   "metadata": {},
   "outputs": [
    {
     "data": {
      "text/plain": [
       "'deb'"
      ]
     },
     "execution_count": 100,
     "metadata": {},
     "output_type": "execute_result"
    }
   ],
   "source": [
    "x[9:12]"
   ]
  },
  {
   "cell_type": "code",
   "execution_count": 101,
   "id": "0ef1eada",
   "metadata": {},
   "outputs": [
    {
     "name": "stdout",
     "output_type": "stream",
     "text": [
      "12\n"
     ]
    }
   ],
   "source": [
    "print(len(x))"
   ]
  },
  {
   "cell_type": "code",
   "execution_count": 102,
   "id": "4d90a508",
   "metadata": {},
   "outputs": [],
   "source": [
    "text=\"hello,lets start  coding\""
   ]
  },
  {
   "cell_type": "code",
   "execution_count": 103,
   "id": "640aea28",
   "metadata": {},
   "outputs": [
    {
     "name": "stdout",
     "output_type": "stream",
     "text": [
      "True\n"
     ]
    }
   ],
   "source": [
    "print(\"start\"in text)"
   ]
  },
  {
   "cell_type": "code",
   "execution_count": 104,
   "id": "ec852a62",
   "metadata": {},
   "outputs": [],
   "source": [
    "voice= \"this is an automated voice by siri\""
   ]
  },
  {
   "cell_type": "code",
   "execution_count": 105,
   "id": "2fadc1ca",
   "metadata": {},
   "outputs": [
    {
     "name": "stdout",
     "output_type": "stream",
     "text": [
      "True\n"
     ]
    }
   ],
   "source": [
    "print(\"hello\"not in voice)"
   ]
  },
  {
   "cell_type": "code",
   "execution_count": 107,
   "id": "b10b7afa",
   "metadata": {},
   "outputs": [],
   "source": [
    "xyz=\"debankan_deb\""
   ]
  },
  {
   "cell_type": "code",
   "execution_count": 108,
   "id": "8fefe4b9",
   "metadata": {},
   "outputs": [
    {
     "name": "stdout",
     "output_type": "stream",
     "text": [
      "bankan_d\n"
     ]
    }
   ],
   "source": [
    "print(xyz[2:10])"
   ]
  },
  {
   "cell_type": "code",
   "execution_count": 110,
   "id": "1895ba97",
   "metadata": {},
   "outputs": [
    {
     "name": "stdout",
     "output_type": "stream",
     "text": [
      "b\n"
     ]
    }
   ],
   "source": [
    "print(xyz[-1])"
   ]
  },
  {
   "cell_type": "code",
   "execution_count": 113,
   "id": "39fa766c",
   "metadata": {},
   "outputs": [
    {
     "name": "stdout",
     "output_type": "stream",
     "text": [
      "ed_\n"
     ]
    }
   ],
   "source": [
    "print(xyz[-2:-5:-1])"
   ]
  },
  {
   "cell_type": "code",
   "execution_count": 114,
   "id": "38aec2a5",
   "metadata": {},
   "outputs": [],
   "source": [
    "word=\"hello python\""
   ]
  },
  {
   "cell_type": "code",
   "execution_count": 115,
   "id": "a941557f",
   "metadata": {},
   "outputs": [
    {
     "name": "stdout",
     "output_type": "stream",
     "text": [
      "HELLO PYTHON\n"
     ]
    }
   ],
   "source": [
    "print(word.upper())"
   ]
  },
  {
   "cell_type": "code",
   "execution_count": 116,
   "id": "febffb13",
   "metadata": {},
   "outputs": [
    {
     "name": "stdout",
     "output_type": "stream",
     "text": [
      "hello python\n"
     ]
    }
   ],
   "source": [
    "print(word.lower())"
   ]
  },
  {
   "cell_type": "code",
   "execution_count": 121,
   "id": "6ff73bcd",
   "metadata": {},
   "outputs": [],
   "source": [
    "a=\"          hello,world!   \""
   ]
  },
  {
   "cell_type": "code",
   "execution_count": 122,
   "id": "4ef1159f",
   "metadata": {},
   "outputs": [
    {
     "name": "stdout",
     "output_type": "stream",
     "text": [
      "          hello,world!   \n"
     ]
    }
   ],
   "source": [
    "print(a)"
   ]
  },
  {
   "cell_type": "code",
   "execution_count": 123,
   "id": "9fb9df5c",
   "metadata": {},
   "outputs": [
    {
     "name": "stdout",
     "output_type": "stream",
     "text": [
      "hello,world!\n"
     ]
    }
   ],
   "source": [
    "print(a.strip())"
   ]
  },
  {
   "cell_type": "code",
   "execution_count": 124,
   "id": "6658018e",
   "metadata": {},
   "outputs": [],
   "source": [
    "a=\"hello,world!\""
   ]
  },
  {
   "cell_type": "code",
   "execution_count": 126,
   "id": "51ade29c",
   "metadata": {},
   "outputs": [
    {
     "name": "stdout",
     "output_type": "stream",
     "text": [
      "jello,world!\n"
     ]
    }
   ],
   "source": [
    "print(a.replace(\"h\",\"j\"))"
   ]
  },
  {
   "cell_type": "code",
   "execution_count": 127,
   "id": "81df4b7f",
   "metadata": {},
   "outputs": [],
   "source": [
    "a=\"hello,world!\""
   ]
  },
  {
   "cell_type": "code",
   "execution_count": 128,
   "id": "df4983e8",
   "metadata": {},
   "outputs": [
    {
     "name": "stdout",
     "output_type": "stream",
     "text": [
      "['hello', 'world!']\n"
     ]
    }
   ],
   "source": [
    "print(a.split(\",\"))"
   ]
  },
  {
   "cell_type": "code",
   "execution_count": 129,
   "id": "9dbf919d",
   "metadata": {},
   "outputs": [],
   "source": [
    "a=\"hello\""
   ]
  },
  {
   "cell_type": "code",
   "execution_count": 130,
   "id": "c08097e8",
   "metadata": {},
   "outputs": [],
   "source": [
    "b=\"python\""
   ]
  },
  {
   "cell_type": "code",
   "execution_count": 131,
   "id": "2b0abc5b",
   "metadata": {},
   "outputs": [],
   "source": [
    "v=a+b"
   ]
  },
  {
   "cell_type": "code",
   "execution_count": 132,
   "id": "37210a75",
   "metadata": {},
   "outputs": [
    {
     "name": "stdout",
     "output_type": "stream",
     "text": [
      "hellopython\n"
     ]
    }
   ],
   "source": [
    "print(v)"
   ]
  },
  {
   "cell_type": "code",
   "execution_count": 136,
   "id": "3b9a4915",
   "metadata": {},
   "outputs": [],
   "source": [
    "age=23"
   ]
  },
  {
   "cell_type": "code",
   "execution_count": 137,
   "id": "e1e74185",
   "metadata": {},
   "outputs": [
    {
     "ename": "TypeError",
     "evalue": "can only concatenate str (not \"int\") to str",
     "output_type": "error",
     "traceback": [
      "\u001b[1;31m---------------------------------------------------------------------------\u001b[0m",
      "\u001b[1;31mTypeError\u001b[0m                                 Traceback (most recent call last)",
      "Cell \u001b[1;32mIn[137], line 1\u001b[0m\n\u001b[1;32m----> 1\u001b[0m txt\u001b[38;5;241m=\u001b[39m\u001b[38;5;124m\"\u001b[39m\u001b[38;5;124mmy name is deb,i am\u001b[39m\u001b[38;5;124m\"\u001b[39m\u001b[38;5;241m+\u001b[39mage\n",
      "\u001b[1;31mTypeError\u001b[0m: can only concatenate str (not \"int\") to str"
     ]
    }
   ],
   "source": [
    "txt=\"my name is deb,i am\"+age"
   ]
  },
  {
   "cell_type": "code",
   "execution_count": 138,
   "id": "e9ad48d1",
   "metadata": {},
   "outputs": [],
   "source": [
    "txt=\"my name is deb,and i am {}\""
   ]
  },
  {
   "cell_type": "code",
   "execution_count": 139,
   "id": "ebf99ea7",
   "metadata": {},
   "outputs": [
    {
     "name": "stdout",
     "output_type": "stream",
     "text": [
      "my name is deb,and i am 23\n"
     ]
    }
   ],
   "source": [
    "print(txt.format(age))"
   ]
  },
  {
   "cell_type": "code",
   "execution_count": 140,
   "id": "a10f149f",
   "metadata": {},
   "outputs": [],
   "source": [
    "amount=3212"
   ]
  },
  {
   "cell_type": "code",
   "execution_count": 141,
   "id": "892afadb",
   "metadata": {},
   "outputs": [],
   "source": [
    "orderno=4776"
   ]
  },
  {
   "cell_type": "code",
   "execution_count": 142,
   "id": "e8f724ab",
   "metadata": {},
   "outputs": [],
   "source": [
    "quantity=10"
   ]
  },
  {
   "cell_type": "code",
   "execution_count": 143,
   "id": "9d73751d",
   "metadata": {},
   "outputs": [],
   "source": [
    "myorder=\"i want {}of my order {}for{}rupees.\""
   ]
  },
  {
   "cell_type": "code",
   "execution_count": 144,
   "id": "c7485f0d",
   "metadata": {},
   "outputs": [
    {
     "name": "stdout",
     "output_type": "stream",
     "text": [
      "i want 10of my order 4776for3212rupees.\n"
     ]
    }
   ],
   "source": [
    "print(myorder.format(quantity,orderno,amount))"
   ]
  },
  {
   "cell_type": "code",
   "execution_count": 149,
   "id": "3de6a9c2",
   "metadata": {},
   "outputs": [],
   "source": [
    "txt=\"we are the so-called\\\"vikings\\\"from the north\""
   ]
  },
  {
   "cell_type": "code",
   "execution_count": 150,
   "id": "da2df431",
   "metadata": {},
   "outputs": [
    {
     "name": "stdout",
     "output_type": "stream",
     "text": [
      "we are the so-called\"vikings\"from the north\n"
     ]
    }
   ],
   "source": [
    "print(txt)"
   ]
  },
  {
   "cell_type": "code",
   "execution_count": 151,
   "id": "04076d32",
   "metadata": {},
   "outputs": [
    {
     "name": "stdout",
     "output_type": "stream",
     "text": [
      "True\n"
     ]
    }
   ],
   "source": [
    "print(10==10)"
   ]
  },
  {
   "cell_type": "code",
   "execution_count": 152,
   "id": "bd928a51",
   "metadata": {},
   "outputs": [
    {
     "name": "stdout",
     "output_type": "stream",
     "text": [
      "False\n"
     ]
    }
   ],
   "source": [
    "print(10<9)"
   ]
  },
  {
   "cell_type": "code",
   "execution_count": 153,
   "id": "7b7ef112",
   "metadata": {},
   "outputs": [
    {
     "name": "stdout",
     "output_type": "stream",
     "text": [
      "False\n"
     ]
    }
   ],
   "source": [
    "print(10==100)"
   ]
  },
  {
   "cell_type": "code",
   "execution_count": 154,
   "id": "b85151cd",
   "metadata": {},
   "outputs": [
    {
     "name": "stdout",
     "output_type": "stream",
     "text": [
      "True\n"
     ]
    }
   ],
   "source": [
    "print(bool(\"hello\"))"
   ]
  },
  {
   "cell_type": "code",
   "execution_count": 155,
   "id": "478daf6b",
   "metadata": {},
   "outputs": [
    {
     "name": "stdout",
     "output_type": "stream",
     "text": [
      "True\n"
     ]
    }
   ],
   "source": [
    "print(bool(100))"
   ]
  },
  {
   "cell_type": "code",
   "execution_count": 157,
   "id": "14b643a0",
   "metadata": {},
   "outputs": [
    {
     "name": "stdout",
     "output_type": "stream",
     "text": [
      "False\n"
     ]
    }
   ],
   "source": [
    "print(bool())"
   ]
  },
  {
   "cell_type": "code",
   "execution_count": 159,
   "id": "8bde7917",
   "metadata": {},
   "outputs": [
    {
     "name": "stdout",
     "output_type": "stream",
     "text": [
      "True\n"
     ]
    }
   ],
   "source": [
    "print(bool([\"apple,cherry,banana\"]))"
   ]
  },
  {
   "cell_type": "code",
   "execution_count": 160,
   "id": "38772bcb",
   "metadata": {},
   "outputs": [
    {
     "name": "stdout",
     "output_type": "stream",
     "text": [
      "True\n"
     ]
    }
   ],
   "source": [
    "print(bool(100))"
   ]
  },
  {
   "cell_type": "code",
   "execution_count": 162,
   "id": "b4a847c5",
   "metadata": {},
   "outputs": [
    {
     "name": "stdout",
     "output_type": "stream",
     "text": [
      "True\n"
     ]
    }
   ],
   "source": [
    "print(bool(\"python\"))"
   ]
  },
  {
   "cell_type": "code",
   "execution_count": 167,
   "id": "b8ea8541",
   "metadata": {},
   "outputs": [],
   "source": [
    "x=2"
   ]
  },
  {
   "cell_type": "code",
   "execution_count": 168,
   "id": "d18fccb3",
   "metadata": {},
   "outputs": [
    {
     "name": "stdout",
     "output_type": "stream",
     "text": [
      "True\n"
     ]
    }
   ],
   "source": [
    "print(isinstance(x,int))\n"
   ]
  },
  {
   "cell_type": "code",
   "execution_count": 170,
   "id": "5e09a6ca",
   "metadata": {},
   "outputs": [],
   "source": [
    "x=5;y=6"
   ]
  },
  {
   "cell_type": "code",
   "execution_count": 172,
   "id": "9bd40e63",
   "metadata": {},
   "outputs": [
    {
     "data": {
      "text/plain": [
       "11"
      ]
     },
     "execution_count": 172,
     "metadata": {},
     "output_type": "execute_result"
    }
   ],
   "source": [
    "x+y"
   ]
  },
  {
   "cell_type": "code",
   "execution_count": 173,
   "id": "a34a723e",
   "metadata": {},
   "outputs": [],
   "source": [
    "import operator"
   ]
  },
  {
   "cell_type": "code",
   "execution_count": 175,
   "id": "1f05fdca",
   "metadata": {},
   "outputs": [
    {
     "data": {
      "text/plain": [
       "11"
      ]
     },
     "execution_count": 175,
     "metadata": {},
     "output_type": "execute_result"
    }
   ],
   "source": [
    "operator.add(5,6)"
   ]
  },
  {
   "cell_type": "code",
   "execution_count": 176,
   "id": "e87bb386",
   "metadata": {},
   "outputs": [],
   "source": [
    "x=10;y=5"
   ]
  },
  {
   "cell_type": "code",
   "execution_count": 178,
   "id": "28d4b9a3",
   "metadata": {},
   "outputs": [
    {
     "data": {
      "text/plain": [
       "5"
      ]
     },
     "execution_count": 178,
     "metadata": {},
     "output_type": "execute_result"
    }
   ],
   "source": [
    "x-y"
   ]
  },
  {
   "cell_type": "code",
   "execution_count": 181,
   "id": "b76673d1",
   "metadata": {},
   "outputs": [
    {
     "data": {
      "text/plain": [
       "5"
      ]
     },
     "execution_count": 181,
     "metadata": {},
     "output_type": "execute_result"
    }
   ],
   "source": [
    "operator.sub(10,5)"
   ]
  },
  {
   "cell_type": "code",
   "execution_count": 182,
   "id": "44c4a623",
   "metadata": {},
   "outputs": [],
   "source": [
    "x=5;y=6"
   ]
  },
  {
   "cell_type": "code",
   "execution_count": 183,
   "id": "a4fd9dc8",
   "metadata": {},
   "outputs": [
    {
     "data": {
      "text/plain": [
       "30"
      ]
     },
     "execution_count": 183,
     "metadata": {},
     "output_type": "execute_result"
    }
   ],
   "source": [
    "x*y"
   ]
  },
  {
   "cell_type": "code",
   "execution_count": 184,
   "id": "8a4abfb7",
   "metadata": {},
   "outputs": [
    {
     "data": {
      "text/plain": [
       "30"
      ]
     },
     "execution_count": 184,
     "metadata": {},
     "output_type": "execute_result"
    }
   ],
   "source": [
    "operator.mul(5,6)"
   ]
  },
  {
   "cell_type": "code",
   "execution_count": 185,
   "id": "4aa213be",
   "metadata": {},
   "outputs": [],
   "source": [
    "x=2;y=3"
   ]
  },
  {
   "cell_type": "code",
   "execution_count": 186,
   "id": "c994b68d",
   "metadata": {},
   "outputs": [
    {
     "data": {
      "text/plain": [
       "8"
      ]
     },
     "execution_count": 186,
     "metadata": {},
     "output_type": "execute_result"
    }
   ],
   "source": [
    "x**y"
   ]
  },
  {
   "cell_type": "code",
   "execution_count": 187,
   "id": "d386147d",
   "metadata": {},
   "outputs": [
    {
     "data": {
      "text/plain": [
       "8"
      ]
     },
     "execution_count": 187,
     "metadata": {},
     "output_type": "execute_result"
    }
   ],
   "source": [
    "operator.pow(2,3)"
   ]
  },
  {
   "cell_type": "code",
   "execution_count": 188,
   "id": "44a502c2",
   "metadata": {},
   "outputs": [],
   "source": [
    "x=6;y=3"
   ]
  },
  {
   "cell_type": "code",
   "execution_count": 189,
   "id": "5f90868e",
   "metadata": {},
   "outputs": [
    {
     "data": {
      "text/plain": [
       "2.0"
      ]
     },
     "execution_count": 189,
     "metadata": {},
     "output_type": "execute_result"
    }
   ],
   "source": [
    "x/y"
   ]
  },
  {
   "cell_type": "code",
   "execution_count": 191,
   "id": "70be60e8",
   "metadata": {},
   "outputs": [
    {
     "data": {
      "text/plain": [
       "2.0"
      ]
     },
     "execution_count": 191,
     "metadata": {},
     "output_type": "execute_result"
    }
   ],
   "source": [
    "operator.truediv(6,3)"
   ]
  },
  {
   "cell_type": "code",
   "execution_count": 192,
   "id": "2aa6f14b",
   "metadata": {},
   "outputs": [],
   "source": [
    "x=5;y=6"
   ]
  },
  {
   "cell_type": "code",
   "execution_count": 195,
   "id": "e748dcc3",
   "metadata": {},
   "outputs": [
    {
     "data": {
      "text/plain": [
       "True"
      ]
     },
     "execution_count": 195,
     "metadata": {},
     "output_type": "execute_result"
    }
   ],
   "source": [
    "x>1 and y<10\n"
   ]
  },
  {
   "cell_type": "code",
   "execution_count": 196,
   "id": "0acd2de0",
   "metadata": {},
   "outputs": [],
   "source": [
    "x=5;y=6"
   ]
  },
  {
   "cell_type": "code",
   "execution_count": 198,
   "id": "ffe87c1c",
   "metadata": {},
   "outputs": [
    {
     "data": {
      "text/plain": [
       "True"
      ]
     },
     "execution_count": 198,
     "metadata": {},
     "output_type": "execute_result"
    }
   ],
   "source": [
    "x>6 or y<10"
   ]
  },
  {
   "cell_type": "code",
   "execution_count": 199,
   "id": "1f942185",
   "metadata": {},
   "outputs": [],
   "source": [
    "x=5"
   ]
  },
  {
   "cell_type": "code",
   "execution_count": 201,
   "id": "476018f8",
   "metadata": {},
   "outputs": [
    {
     "data": {
      "text/plain": [
       "False"
      ]
     },
     "execution_count": 201,
     "metadata": {},
     "output_type": "execute_result"
    }
   ],
   "source": [
    "not x>1"
   ]
  },
  {
   "cell_type": "code",
   "execution_count": 204,
   "id": "4a8cb3e2",
   "metadata": {},
   "outputs": [],
   "source": [
    "fruits=[\"banana\",\"apple\",\"orange\"]"
   ]
  },
  {
   "cell_type": "code",
   "execution_count": 205,
   "id": "59e5ebbb",
   "metadata": {},
   "outputs": [
    {
     "name": "stdout",
     "output_type": "stream",
     "text": [
      "['banana', 'apple', 'orange']\n"
     ]
    }
   ],
   "source": [
    "print(fruits)"
   ]
  },
  {
   "cell_type": "code",
   "execution_count": 208,
   "id": "39bcad0b",
   "metadata": {},
   "outputs": [
    {
     "name": "stdout",
     "output_type": "stream",
     "text": [
      "orange\n"
     ]
    }
   ],
   "source": [
    "print(fruits[-1])"
   ]
  },
  {
   "cell_type": "code",
   "execution_count": 211,
   "id": "dbd8e3a2",
   "metadata": {},
   "outputs": [],
   "source": [
    "fruits=[\"apple\",\"orange\",\"mango\",\"apple\",\"kiwi\",\"pineapple\"]"
   ]
  },
  {
   "cell_type": "code",
   "execution_count": 212,
   "id": "632ae1c0",
   "metadata": {},
   "outputs": [
    {
     "name": "stdout",
     "output_type": "stream",
     "text": [
      "['orange', 'mango', 'apple', 'kiwi']\n"
     ]
    }
   ],
   "source": [
    "print(fruits[1:5])"
   ]
  },
  {
   "cell_type": "code",
   "execution_count": 215,
   "id": "71769e2e",
   "metadata": {},
   "outputs": [
    {
     "name": "stdout",
     "output_type": "stream",
     "text": [
      "['apple', 'orange', 'mango', 'apple', 'kiwi']\n"
     ]
    }
   ],
   "source": [
    "print(fruits[:5])"
   ]
  },
  {
   "cell_type": "code",
   "execution_count": 216,
   "id": "74c41cdb",
   "metadata": {},
   "outputs": [
    {
     "name": "stdout",
     "output_type": "stream",
     "text": [
      "['orange', 'mango', 'apple', 'kiwi', 'pineapple']\n"
     ]
    }
   ],
   "source": [
    "print(fruits[1:])"
   ]
  },
  {
   "cell_type": "code",
   "execution_count": 217,
   "id": "0eae1ee0",
   "metadata": {},
   "outputs": [],
   "source": [
    "fruits[1]=\"banana\""
   ]
  },
  {
   "cell_type": "code",
   "execution_count": 219,
   "id": "b91491a9",
   "metadata": {},
   "outputs": [
    {
     "name": "stdout",
     "output_type": "stream",
     "text": [
      "['apple', 'banana', 'mango', 'apple', 'kiwi', 'pineapple']\n"
     ]
    }
   ],
   "source": [
    "print(fruits)"
   ]
  },
  {
   "cell_type": "code",
   "execution_count": 220,
   "id": "f8a55cd5",
   "metadata": {},
   "outputs": [],
   "source": [
    "fruits[2:4]=[\"watermelon\",\"green apple\"]"
   ]
  },
  {
   "cell_type": "code",
   "execution_count": 221,
   "id": "cb6db1cb",
   "metadata": {},
   "outputs": [
    {
     "name": "stdout",
     "output_type": "stream",
     "text": [
      "['apple', 'banana', 'watermelon', 'green apple', 'kiwi', 'pineapple']\n"
     ]
    }
   ],
   "source": [
    "print(fruits)"
   ]
  },
  {
   "cell_type": "code",
   "execution_count": 222,
   "id": "782c1f8c",
   "metadata": {},
   "outputs": [],
   "source": [
    "fruits=['apple','banana','orange']"
   ]
  },
  {
   "cell_type": "code",
   "execution_count": 223,
   "id": "53935525",
   "metadata": {},
   "outputs": [],
   "source": [
    "fruits[2:]=['watermelon','kiwi']"
   ]
  },
  {
   "cell_type": "code",
   "execution_count": 224,
   "id": "f58bf23f",
   "metadata": {},
   "outputs": [
    {
     "name": "stdout",
     "output_type": "stream",
     "text": [
      "['apple', 'banana', 'watermelon', 'kiwi']\n"
     ]
    }
   ],
   "source": [
    "print(fruits)\n"
   ]
  },
  {
   "cell_type": "code",
   "execution_count": 225,
   "id": "a64acc2f",
   "metadata": {},
   "outputs": [],
   "source": [
    "fruits=['apple','banana','orange']"
   ]
  },
  {
   "cell_type": "code",
   "execution_count": 226,
   "id": "949f2e99",
   "metadata": {},
   "outputs": [],
   "source": [
    "fruits[1:2]=['kiwi']"
   ]
  },
  {
   "cell_type": "code",
   "execution_count": 228,
   "id": "ea92f511",
   "metadata": {},
   "outputs": [
    {
     "name": "stdout",
     "output_type": "stream",
     "text": [
      "['apple', 'kiwi', 'orange']\n"
     ]
    }
   ],
   "source": [
    "print(fruits)"
   ]
  },
  {
   "cell_type": "code",
   "execution_count": 229,
   "id": "67c96ed5",
   "metadata": {},
   "outputs": [],
   "source": [
    "fruits=[\"apple\",\"banana\",\"cherry\"]\n"
   ]
  },
  {
   "cell_type": "code",
   "execution_count": 230,
   "id": "8746fc8d",
   "metadata": {},
   "outputs": [],
   "source": [
    "fruits.insert(1,\"orange\")"
   ]
  },
  {
   "cell_type": "code",
   "execution_count": 231,
   "id": "14157e2f",
   "metadata": {},
   "outputs": [
    {
     "name": "stdout",
     "output_type": "stream",
     "text": [
      "['apple', 'orange', 'banana', 'cherry']\n"
     ]
    }
   ],
   "source": [
    "print(fruits)"
   ]
  },
  {
   "cell_type": "code",
   "execution_count": 232,
   "id": "8ff1f503",
   "metadata": {},
   "outputs": [],
   "source": [
    "fruits=[\"apple\",\"banana\",\"cherry\"]"
   ]
  },
  {
   "cell_type": "code",
   "execution_count": 233,
   "id": "8872aad8",
   "metadata": {},
   "outputs": [],
   "source": [
    "fruits.append(\"oraange\")"
   ]
  },
  {
   "cell_type": "code",
   "execution_count": 234,
   "id": "e18ddb43",
   "metadata": {},
   "outputs": [
    {
     "name": "stdout",
     "output_type": "stream",
     "text": [
      "['apple', 'banana', 'cherry', 'oraange']\n"
     ]
    }
   ],
   "source": [
    "print(fruits)"
   ]
  },
  {
   "cell_type": "code",
   "execution_count": 235,
   "id": "09a4b0ec",
   "metadata": {},
   "outputs": [],
   "source": [
    "fruits=[\"apple\",\"banana\",\"cherry\"]"
   ]
  },
  {
   "cell_type": "code",
   "execution_count": 236,
   "id": "ddb25276",
   "metadata": {},
   "outputs": [],
   "source": [
    "fruits2=[\"mango\",\"pineapple\",\"papaya\"]"
   ]
  },
  {
   "cell_type": "code",
   "execution_count": 237,
   "id": "60493774",
   "metadata": {},
   "outputs": [],
   "source": [
    "fruits.extend(fruits2)"
   ]
  },
  {
   "cell_type": "code",
   "execution_count": 238,
   "id": "da42ad56",
   "metadata": {},
   "outputs": [
    {
     "name": "stdout",
     "output_type": "stream",
     "text": [
      "['apple', 'banana', 'cherry', 'mango', 'pineapple', 'papaya']\n"
     ]
    }
   ],
   "source": [
    "print(fruits)"
   ]
  },
  {
   "cell_type": "code",
   "execution_count": 240,
   "id": "d26d159b",
   "metadata": {},
   "outputs": [],
   "source": [
    "fruits=[\"apple\",\"banana\",\"cherry\"]"
   ]
  },
  {
   "cell_type": "code",
   "execution_count": 241,
   "id": "ec3ccbd6",
   "metadata": {},
   "outputs": [],
   "source": [
    "fruits2=(\"mango\",\"pineapple\",\"papaya\")"
   ]
  },
  {
   "cell_type": "code",
   "execution_count": 243,
   "id": "6264ef95",
   "metadata": {},
   "outputs": [],
   "source": [
    "fruits.extend(fruits2)"
   ]
  },
  {
   "cell_type": "code",
   "execution_count": 244,
   "id": "6fbb90f8",
   "metadata": {},
   "outputs": [
    {
     "name": "stdout",
     "output_type": "stream",
     "text": [
      "['apple', 'banana', 'cherry', 'mango', 'pineapple', 'papaya']\n"
     ]
    }
   ],
   "source": [
    "print(fruits)"
   ]
  },
  {
   "cell_type": "code",
   "execution_count": 245,
   "id": "7a2927e2",
   "metadata": {},
   "outputs": [],
   "source": [
    "fruits=[\"apple\",\"banana\",\"cherry\"]"
   ]
  },
  {
   "cell_type": "code",
   "execution_count": 246,
   "id": "0dc6be4a",
   "metadata": {},
   "outputs": [],
   "source": [
    "fruits.remove(\"apple\")"
   ]
  },
  {
   "cell_type": "code",
   "execution_count": 248,
   "id": "ab3280ed",
   "metadata": {},
   "outputs": [
    {
     "name": "stdout",
     "output_type": "stream",
     "text": [
      "['banana', 'cherry']\n"
     ]
    }
   ],
   "source": [
    "print(fruits)"
   ]
  },
  {
   "cell_type": "code",
   "execution_count": 249,
   "id": "132a2234",
   "metadata": {},
   "outputs": [],
   "source": [
    "fruits=[\"apple\",\"banana\",\"cherry\"]"
   ]
  },
  {
   "cell_type": "code",
   "execution_count": 250,
   "id": "12bf29a1",
   "metadata": {},
   "outputs": [
    {
     "data": {
      "text/plain": [
       "'banana'"
      ]
     },
     "execution_count": 250,
     "metadata": {},
     "output_type": "execute_result"
    }
   ],
   "source": [
    "fruits.pop(1)\n"
   ]
  },
  {
   "cell_type": "code",
   "execution_count": 251,
   "id": "7ba41d66",
   "metadata": {},
   "outputs": [
    {
     "name": "stdout",
     "output_type": "stream",
     "text": [
      "['apple', 'cherry']\n"
     ]
    }
   ],
   "source": [
    "print(fruits)"
   ]
  },
  {
   "cell_type": "code",
   "execution_count": 252,
   "id": "6dd33f0d",
   "metadata": {},
   "outputs": [],
   "source": [
    "fruits=[\"apple\",\"banana\",\"cherry\"]"
   ]
  },
  {
   "cell_type": "code",
   "execution_count": 254,
   "id": "451c66c5",
   "metadata": {},
   "outputs": [],
   "source": [
    "del fruits[1]"
   ]
  },
  {
   "cell_type": "code",
   "execution_count": 255,
   "id": "46515f0b",
   "metadata": {},
   "outputs": [
    {
     "name": "stdout",
     "output_type": "stream",
     "text": [
      "['apple', 'cherry']\n"
     ]
    }
   ],
   "source": [
    "print(fruits)"
   ]
  },
  {
   "cell_type": "code",
   "execution_count": 256,
   "id": "807c0f6e",
   "metadata": {},
   "outputs": [],
   "source": [
    "fruits=[\"apple\",\"banana\",\"cherry\"]"
   ]
  },
  {
   "cell_type": "code",
   "execution_count": 257,
   "id": "f9bb0a16",
   "metadata": {},
   "outputs": [],
   "source": [
    "del fruits"
   ]
  },
  {
   "cell_type": "code",
   "execution_count": 258,
   "id": "edfaaf85",
   "metadata": {},
   "outputs": [
    {
     "ename": "NameError",
     "evalue": "name 'fruits' is not defined",
     "output_type": "error",
     "traceback": [
      "\u001b[1;31m---------------------------------------------------------------------------\u001b[0m",
      "\u001b[1;31mNameError\u001b[0m                                 Traceback (most recent call last)",
      "Cell \u001b[1;32mIn[258], line 1\u001b[0m\n\u001b[1;32m----> 1\u001b[0m \u001b[38;5;28mprint\u001b[39m(fruits)\n",
      "\u001b[1;31mNameError\u001b[0m: name 'fruits' is not defined"
     ]
    }
   ],
   "source": [
    "print(fruits)"
   ]
  },
  {
   "cell_type": "code",
   "execution_count": 259,
   "id": "a7921a55",
   "metadata": {},
   "outputs": [],
   "source": [
    "fruits=[\"apple\",\"banana\",\"cherry\"]"
   ]
  },
  {
   "cell_type": "code",
   "execution_count": 260,
   "id": "65604286",
   "metadata": {},
   "outputs": [],
   "source": [
    "fruits.clear()"
   ]
  },
  {
   "cell_type": "code",
   "execution_count": 263,
   "id": "128e4e0a",
   "metadata": {},
   "outputs": [
    {
     "name": "stdout",
     "output_type": "stream",
     "text": [
      "[]\n"
     ]
    }
   ],
   "source": [
    "print(fruits)"
   ]
  },
  {
   "cell_type": "code",
   "execution_count": 264,
   "id": "f12ae330",
   "metadata": {},
   "outputs": [],
   "source": [
    "fruits=[\"apple\",\"banana\",\"cherry\"]"
   ]
  },
  {
   "cell_type": "code",
   "execution_count": 265,
   "id": "7e9642a5",
   "metadata": {},
   "outputs": [],
   "source": [
    "myfruits=fruits.copy()\n"
   ]
  },
  {
   "cell_type": "code",
   "execution_count": 266,
   "id": "f8b63b9f",
   "metadata": {},
   "outputs": [
    {
     "name": "stdout",
     "output_type": "stream",
     "text": [
      "['apple', 'banana', 'cherry']\n"
     ]
    }
   ],
   "source": [
    "print(myfruits)"
   ]
  },
  {
   "cell_type": "code",
   "execution_count": null,
   "id": "ab5601b6",
   "metadata": {},
   "outputs": [],
   "source": []
  }
 ],
 "metadata": {
  "kernelspec": {
   "display_name": "Python 3 (ipykernel)",
   "language": "python",
   "name": "python3"
  },
  "language_info": {
   "codemirror_mode": {
    "name": "ipython",
    "version": 3
   },
   "file_extension": ".py",
   "mimetype": "text/x-python",
   "name": "python",
   "nbconvert_exporter": "python",
   "pygments_lexer": "ipython3",
   "version": "3.11.5"
  }
 },
 "nbformat": 4,
 "nbformat_minor": 5
}
